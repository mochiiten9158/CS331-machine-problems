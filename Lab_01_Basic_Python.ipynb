{
  "nbformat": 4,
  "nbformat_minor": 0,
  "metadata": {
    "kernelspec": {
      "name": "python3",
      "display_name": "Python 3",
      "language": "python"
    },
    "language_info": {
      "name": "python",
      "version": "3.7.3",
      "mimetype": "text/x-python",
      "codemirror_mode": {
        "name": "ipython",
        "version": 3
      },
      "pygments_lexer": "ipython3",
      "nbconvert_exporter": "python",
      "file_extension": ".py"
    },
    "mimir": {
      "project_id": "651d7ad1-7ce0-43a6-9a10-674de9b35f88",
      "last_submission_id": "",
      "data": {}
    },
    "varInspector": {
      "window_display": false,
      "cols": {
        "lenName": 16,
        "lenType": 16,
        "lenVar": 40
      },
      "kernels_config": {
        "python": {
          "library": "var_list.py",
          "delete_cmd_prefix": "del ",
          "delete_cmd_postfix": "",
          "varRefreshCmd": "print(var_dic_list())"
        },
        "r": {
          "library": "var_list.r",
          "delete_cmd_prefix": "rm(",
          "delete_cmd_postfix": ") ",
          "varRefreshCmd": "cat(var_dic_list()) "
        }
      },
      "types_to_exclude": [
        "module",
        "function",
        "builtin_function_or_method",
        "instance",
        "_Feature"
      ]
    },
    "colab": {
      "name": "Lab 01 : Basic Python.ipynb",
      "provenance": [],
      "include_colab_link": true
    }
  },
  "cells": [
    {
      "cell_type": "markdown",
      "metadata": {
        "id": "view-in-github",
        "colab_type": "text"
      },
      "source": [
        "<a href=\"https://colab.research.google.com/github/mochiiten9158/CS331-machine-problems/blob/main/Lab_01_Basic_Python.ipynb\" target=\"_parent\"><img src=\"https://colab.research.google.com/assets/colab-badge.svg\" alt=\"Open In Colab\"/></a>"
      ]
    },
    {
      "cell_type": "markdown",
      "metadata": {
        "state": "normal",
        "id": "KO3-m0Na0MP7"
      },
      "source": [
        "# Lab 01: Basic Python"
      ]
    },
    {
      "cell_type": "markdown",
      "metadata": {
        "state": "normal",
        "id": "aFIVFM7i0MP-"
      },
      "source": [
        "## Exercise 1: Perfect Numbers\n",
        "\n",
        "Most of the lab notebooks you'll be working on for this class will come with a fair bit of skeleton code --- i.e., stubbed out classes and functions that you need to complete or modify to get working correctly.\n",
        "\n",
        "In the cell below, for instance, you'll find a stubbed out function named `is_perfect`, which should return `True` if the number passed to it is a \"perfect\" number, and `False` otherwise.\n",
        "\n",
        "A perfect number is a postive integer whose value is equal to the sum of its proper divisors (i.e., its factors excluding the number itself). 6 is the first perfect number, as its divisors 1, 2, and 3 add up to 6.\n",
        "\n",
        "Fill in your own implementation of the function below:"
      ]
    },
    {
      "cell_type": "code",
      "metadata": {
        "nbgrader": {
          "grade": false,
          "grade_id": "is_perfect",
          "locked": false,
          "schema_version": 1,
          "solution": true
        },
        "id": "is_perfect",
        "state": "graded",
        "deletable": false,
        "starter_code": "def is_perfect(n):\n    pass",
        "trusted": true
      },
      "source": [
        "def is_perfect(n):\n",
        "    sum = 0\n",
        "    for i in range(1,n):\n",
        "        if(n % i == 0):\n",
        "            sum = sum + i\n",
        "    if (sum == n):\n",
        "        return True\n",
        "    else:\n",
        "        return False"
      ],
      "execution_count": 1,
      "outputs": []
    },
    {
      "cell_type": "markdown",
      "metadata": {
        "state": "normal",
        "id": "TLlS_glc0MQD"
      },
      "source": [
        "Each exercise will also be accompanied by one or more *unit test* cells, each of which is meant to test some aspect of your implementation. When you run the unit test cell(s) after evaluating your implementation, you'll either find errors reported, which should help you identify what you need to fix, or they will complete silently, which means you've passed the test(s).\n",
        "\n",
        "**It's important that you ensure your implementation and test cell(s) actually run to completion before moving on** --- there's a big difference between a cell not producing an error and not completing! (A \"`In [*]`\" marker next to the cell means that it's still being evaluated by the interpreter.)\n",
        "\n",
        "We will often run additional *hidden tests* upon submission of your notebook to guard against hardcoded solutions.  While you won't see the specific test cases, you can resubmit your work as many times as you wish (before the deadline) to ensure they pass."
      ]
    },
    {
      "cell_type": "code",
      "metadata": {
        "nbgrader": {
          "grade": true,
          "grade_id": "is_perfect_test",
          "locked": true,
          "points": 3,
          "schema_version": 1,
          "solution": false
        },
        "id": "is_perfect_test",
        "state": "read_only",
        "editable": false,
        "deletable": false,
        "trusted": true
      },
      "source": [
        "# (3 points)\n",
        "import unittest\n",
        "tc = unittest.TestCase()\n",
        "\n",
        "for n in (6, 28, 496):\n",
        "    tc.assertTrue(is_perfect(n), '{} should be perfect'.format(n))\n",
        "\n",
        "for n in (1, 2, 3, 4, 5, 10, 20):\n",
        "    tc.assertFalse(is_perfect(n), '{} should not be perfect'.format(n))\n",
        "\n",
        "for n in range(30, 450):\n",
        "    tc.assertFalse(is_perfect(n), '{} should not be perfect'.format(n))"
      ],
      "execution_count": 2,
      "outputs": []
    },
    {
      "cell_type": "markdown",
      "metadata": {
        "state": "normal",
        "id": "SOK5yFUy0MQE"
      },
      "source": [
        "## Exercise 2: Multiples of 3 and 5\n",
        "\n",
        "If we list all the natural numbers below 10 that are multiples of 3 or 5, we get 3, 5, 6 and 9. The sum of these multiples is 23.\n",
        "\n",
        "Complete the following function, which finds the sum of all the multiples of 3 or 5 below the argument `n`."
      ]
    },
    {
      "cell_type": "code",
      "metadata": {
        "nbgrader": {
          "grade": false,
          "grade_id": "multiples_of_3_and_5",
          "locked": false,
          "schema_version": 1,
          "solution": true
        },
        "id": "multiples_of_3_and_5",
        "state": "graded",
        "deletable": false,
        "starter_code": "def multiples_of_3_and_5(n):\n    pass",
        "trusted": true
      },
      "source": [
        "def multiples_of_3_and_5(n):\n",
        "    sum = 0\n",
        "    for i in range(1,n):\n",
        "        if (i % 3 == 0 or i % 5 == 0):\n",
        "            sum = sum + i\n",
        "    return sum"
      ],
      "execution_count": 3,
      "outputs": []
    },
    {
      "cell_type": "code",
      "metadata": {
        "nbgrader": {
          "grade": true,
          "grade_id": "multiples_of_3_and_5_test",
          "locked": true,
          "points": 3,
          "schema_version": 1,
          "solution": false
        },
        "id": "multiples_of_3_and_5_test",
        "state": "read_only",
        "editable": false,
        "deletable": false,
        "trusted": true
      },
      "source": [
        "# (3 points)\n",
        "import unittest\n",
        "tc = unittest.TestCase()\n",
        "tc.assertEqual(multiples_of_3_and_5(10), 23)\n",
        "tc.assertEqual(multiples_of_3_and_5(500), 57918)\n",
        "tc.assertEqual(multiples_of_3_and_5(1000), 233168)"
      ],
      "execution_count": 4,
      "outputs": []
    },
    {
      "cell_type": "markdown",
      "metadata": {
        "state": "normal",
        "id": "zMVKfNos0MQF"
      },
      "source": [
        "## Exercise 3: Integer Right Triangles\n",
        "\n",
        "Given a perimeter of 60, we can find two right triangles with integral length sides: [(10, 24, 26), (15, 20, 25)]. Complete the following function, which takes an integer `p` and returns the number of unique integer right triangles with perimeter `p`.\n",
        "\n",
        "Note that your solution should take care to limit the number of triangles it tests --- **your function must complete in under 3 seconds for all values of `p` used in the test cells below to earn credit.**"
      ]
    },
    {
      "cell_type": "code",
      "metadata": {
        "nbgrader": {
          "grade": false,
          "grade_id": "integer_right_triangles",
          "locked": false,
          "schema_version": 1,
          "solution": true
        },
        "id": "integer_right_triangles",
        "state": "graded",
        "deletable": false,
        "starter_code": "def integer_right_triangles(p):\n    ",
        "trusted": true
      },
      "source": [
        "def integer_right_triangles(p):\n",
        "    # p=a+b+c, a^2 + b^2 = c^2\n",
        "    #Therefore (a+b)^2 - 2ab = c^2 ; (p-c)^2 - 2ab = c^2 ; By simplification we finally get a = (p/2)*((p-2b)/(p-b))\n",
        "    # p cannot be odd!\n",
        "    if (p % 2 != 0):\n",
        "        return False\n",
        "    else:\n",
        "        store = []\n",
        "        c = 0\n",
        "        for b in range(1,p//2):\n",
        "            a = p/2 * ((p-2*b)/(p-b))\n",
        "            A = int(a)\n",
        "            if(a == A):\n",
        "                ab = tuple(sorted((A,b)))\n",
        "                if ab not in store:\n",
        "                    c += 1\n",
        "                    store.append(ab)\n",
        "        return c"
      ],
      "execution_count": 5,
      "outputs": []
    },
    {
      "cell_type": "code",
      "metadata": {
        "nbgrader": {
          "grade": true,
          "grade_id": "integer_right_triangles_tests_1",
          "locked": true,
          "points": 1,
          "schema_version": 1,
          "solution": false
        },
        "id": "integer_right_triangles_tests_1",
        "state": "read_only",
        "editable": false,
        "deletable": false,
        "trusted": true
      },
      "source": [
        "# (2 points)\n",
        "import unittest\n",
        "tc = unittest.TestCase()\n",
        "tc.assertEqual(integer_right_triangles(60), 2)\n",
        "tc.assertEqual(integer_right_triangles(100), 0)\n",
        "tc.assertEqual(integer_right_triangles(180), 3)"
      ],
      "execution_count": 6,
      "outputs": []
    },
    {
      "cell_type": "markdown",
      "metadata": {
        "state": "normal",
        "id": "OhkzAFRu0MQH"
      },
      "source": [
        "## Exercise 4: Simple ASCII Art\n",
        "\n",
        "For this next exercise, you'll need to complete the function `gen_pattern`, which, when called with a string of length $\\ge$ 1, will print an ASCII art pattern of concentric diamonds using those characters. The following are examples of patterns printed by the function (note the newline at the end of the last line!):\n",
        "\n",
        "    > gen_pattern('X')\n",
        "    \n",
        "    X\n",
        "    \n",
        "    > gen_pattern('XY')\n",
        "    \n",
        "    ..Y..\n",
        "    Y.X.Y\n",
        "    ..Y..\n",
        "    \n",
        "    > gen_pattern('WXYZ')\n",
        "    \n",
        "    ......Z......\n",
        "    ....Z.Y.Z....\n",
        "    ..Z.Y.X.Y.Z..\n",
        "    Z.Y.X.W.X.Y.Z\n",
        "    ..Z.Y.X.Y.Z..\n",
        "    ....Z.Y.Z....\n",
        "    ......Z......\n",
        "    \n",
        "You ought to find the string [`join`](https://docs.python.org/3.6/library/stdtypes.html#str.join) and [`center`](https://docs.python.org/3.6/library/stdtypes.html#str.center) methods helpful in your implementation. They are demonstrated here:\n",
        "\n",
        "    > '*'.join('abcde')\n",
        "    \n",
        "    'a*b*c*d*e'\n",
        "    \n",
        "    > 'hello'.center(11, '*')\n",
        "    \n",
        "    '***hello***'\n",
        "    \n",
        "Complete the `gen_pattern` function, below:"
      ]
    },
    {
      "cell_type": "code",
      "metadata": {
        "nbgrader": {
          "grade": false,
          "grade_id": "gen_pattern",
          "locked": false,
          "schema_version": 1,
          "solution": true
        },
        "id": "gen_pattern",
        "state": "graded",
        "deletable": false,
        "starter_code": "def gen_pattern(chars):\n    pass",
        "trusted": true
      },
      "source": [
        "def gen_pattern(chars):\n",
        "    l = len(chars)\n",
        "    s = ''\n",
        "    d = (l * 2 - 1) * 2 - 1\n",
        "    for i in range(l):\n",
        "        s1 = ''\n",
        "        s += chars[i]\n",
        "        l1 = len(s)\n",
        "        for j in range(0, l1):\n",
        "            if j % 2 != 0:\n",
        "                s1 += chars[l - 1 - j]\n",
        "            else:\n",
        "                s1 += chars[l - 1 - j]\n",
        "        for k in range(i - 1, -1, -1):\n",
        "            if k % 2 != 0:\n",
        "                s1 += chars[l - 1 - k]\n",
        "            else:\n",
        "                s1 += chars[l - 1 - k]\n",
        "        s1 = '.'.join(s1)\n",
        "        s1 = s1.center(d, '.')\n",
        "        print(s1)\n",
        "\n",
        "    s = ''\n",
        "    for i in range(l - 1):\n",
        "        s1 = ''\n",
        "        s += chars[i]\n",
        "        l1 = len(s)\n",
        "        for j in range(l - 1 - i):\n",
        "            if j % 2 != 0:\n",
        "                s1 += chars[l - 1 - j]\n",
        "            else:\n",
        "                s1 += chars[l - 1 - j]\n",
        "        for k in range(i + 2, l):\n",
        "            if k % 2 != 0:\n",
        "                s1 += chars[k]\n",
        "            else:\n",
        "                s1 += chars[k]\n",
        "        s1 = '.'.join(s1)\n",
        "        s1 = s1.center(d, '.')     \n",
        "        print(s1)"
      ],
      "execution_count": 7,
      "outputs": []
    },
    {
      "cell_type": "code",
      "metadata": {
        "state": "read_only",
        "id": "gen_pattern1",
        "editable": false,
        "deletable": false,
        "trusted": true,
        "colab": {
          "base_uri": "https://localhost:8080/"
        },
        "outputId": "3927a74a-da37-4471-a9d5-3ac0006001f5"
      },
      "source": [
        "# (1 point) output:\n",
        "# @\n",
        "\n",
        "gen_pattern('@')"
      ],
      "execution_count": 8,
      "outputs": [
        {
          "output_type": "stream",
          "name": "stdout",
          "text": [
            "@\n"
          ]
        }
      ]
    },
    {
      "cell_type": "code",
      "metadata": {
        "state": "read_only",
        "id": "gen_pattern2",
        "editable": false,
        "deletable": false,
        "trusted": true,
        "colab": {
          "base_uri": "https://localhost:8080/"
        },
        "outputId": "e38adfd9-9ca5-40c7-ac18-945bacdc500c"
      },
      "source": [
        "# (1 point) output:\n",
        "# ..%..\n",
        "# %.@.%\n",
        "# ..%..\n",
        "\n",
        "gen_pattern('@%')"
      ],
      "execution_count": 9,
      "outputs": [
        {
          "output_type": "stream",
          "name": "stdout",
          "text": [
            "..%..\n",
            "%.@.%\n",
            "..%..\n"
          ]
        }
      ]
    },
    {
      "cell_type": "code",
      "metadata": {
        "state": "read_only",
        "id": "gen_pattern3",
        "editable": false,
        "deletable": false,
        "trusted": true,
        "colab": {
          "base_uri": "https://localhost:8080/"
        },
        "outputId": "5a26c7d1-4038-4b51-a630-6d58c404e3db"
      },
      "source": [
        "# (1 point) output:\n",
        "# ....C....\n",
        "# ..C.B.C..\n",
        "# C.B.A.B.C\n",
        "# ..C.B.C..\n",
        "# ....C....\n",
        "\n",
        "gen_pattern('ABC')"
      ],
      "execution_count": 10,
      "outputs": [
        {
          "output_type": "stream",
          "name": "stdout",
          "text": [
            "....C....\n",
            "..C.B.C..\n",
            "C.B.A.B.C\n",
            "..C.B.C..\n",
            "....C....\n"
          ]
        }
      ]
    },
    {
      "cell_type": "code",
      "metadata": {
        "state": "read_only",
        "id": "gen_pattern5",
        "editable": false,
        "deletable": false,
        "trusted": true,
        "colab": {
          "base_uri": "https://localhost:8080/"
        },
        "outputId": "3433ef3c-f754-4466-917d-277ca4befc21"
      },
      "source": [
        "# (1 point) output:\n",
        "# ........#........\n",
        "# ......#.#.#......\n",
        "# ....#.#.#.#.#....\n",
        "# ..#.#.#.#.#.#.#..\n",
        "# #.#.#.#.#.#.#.#.#\n",
        "# ..#.#.#.#.#.#.#..\n",
        "# ....#.#.#.#.#....\n",
        "# ......#.#.#......\n",
        "# ........#........\n",
        "\n",
        "gen_pattern('#####')"
      ],
      "execution_count": 11,
      "outputs": [
        {
          "output_type": "stream",
          "name": "stdout",
          "text": [
            "........#........\n",
            "......#.#.#......\n",
            "....#.#.#.#.#....\n",
            "..#.#.#.#.#.#.#..\n",
            "#.#.#.#.#.#.#.#.#\n",
            "..#.#.#.#.#.#.#..\n",
            "....#.#.#.#.#....\n",
            "......#.#.#......\n",
            "........#........\n"
          ]
        }
      ]
    },
    {
      "cell_type": "code",
      "metadata": {
        "nbgrader": {
          "grade": true,
          "grade_id": "gen_pattern_tests_2",
          "locked": true,
          "points": 2,
          "schema_version": 1,
          "solution": false
        },
        "id": "gen_pattern_tests16",
        "state": "read_only",
        "editable": false,
        "deletable": false,
        "trusted": true,
        "colab": {
          "base_uri": "https://localhost:8080/"
        },
        "outputId": "6c115eb5-1c10-4bb2-d92b-9acceed07c8e"
      },
      "source": [
        "# (2 points) output:\n",
        "# ..............................p..............................\n",
        "# ............................p.o.p............................\n",
        "# ..........................p.o.n.o.p..........................\n",
        "# ........................p.o.n.m.n.o.p........................\n",
        "# ......................p.o.n.m.l.m.n.o.p......................\n",
        "# ....................p.o.n.m.l.k.l.m.n.o.p....................\n",
        "# ..................p.o.n.m.l.k.j.k.l.m.n.o.p..................\n",
        "# ................p.o.n.m.l.k.j.i.j.k.l.m.n.o.p................\n",
        "# ..............p.o.n.m.l.k.j.i.h.i.j.k.l.m.n.o.p..............\n",
        "# ............p.o.n.m.l.k.j.i.h.g.h.i.j.k.l.m.n.o.p............\n",
        "# ..........p.o.n.m.l.k.j.i.h.g.f.g.h.i.j.k.l.m.n.o.p..........\n",
        "# ........p.o.n.m.l.k.j.i.h.g.f.e.f.g.h.i.j.k.l.m.n.o.p........\n",
        "# ......p.o.n.m.l.k.j.i.h.g.f.e.d.e.f.g.h.i.j.k.l.m.n.o.p......\n",
        "# ....p.o.n.m.l.k.j.i.h.g.f.e.d.c.d.e.f.g.h.i.j.k.l.m.n.o.p....\n",
        "# ..p.o.n.m.l.k.j.i.h.g.f.e.d.c.b.c.d.e.f.g.h.i.j.k.l.m.n.o.p..\n",
        "# p.o.n.m.l.k.j.i.h.g.f.e.d.c.b.a.b.c.d.e.f.g.h.i.j.k.l.m.n.o.p\n",
        "# ..p.o.n.m.l.k.j.i.h.g.f.e.d.c.b.c.d.e.f.g.h.i.j.k.l.m.n.o.p..\n",
        "# ....p.o.n.m.l.k.j.i.h.g.f.e.d.c.d.e.f.g.h.i.j.k.l.m.n.o.p....\n",
        "# ......p.o.n.m.l.k.j.i.h.g.f.e.d.e.f.g.h.i.j.k.l.m.n.o.p......\n",
        "# ........p.o.n.m.l.k.j.i.h.g.f.e.f.g.h.i.j.k.l.m.n.o.p........\n",
        "# ..........p.o.n.m.l.k.j.i.h.g.f.g.h.i.j.k.l.m.n.o.p..........\n",
        "# ............p.o.n.m.l.k.j.i.h.g.h.i.j.k.l.m.n.o.p............\n",
        "# ..............p.o.n.m.l.k.j.i.h.i.j.k.l.m.n.o.p..............\n",
        "# ................p.o.n.m.l.k.j.i.j.k.l.m.n.o.p................\n",
        "# ..................p.o.n.m.l.k.j.k.l.m.n.o.p..................\n",
        "# ....................p.o.n.m.l.k.l.m.n.o.p....................\n",
        "# ......................p.o.n.m.l.m.n.o.p......................\n",
        "# ........................p.o.n.m.n.o.p........................\n",
        "# ..........................p.o.n.o.p..........................\n",
        "# ............................p.o.p............................\n",
        "# ..............................p..............................\n",
        "\n",
        "gen_pattern('abcdefghijklmnop')"
      ],
      "execution_count": 12,
      "outputs": [
        {
          "output_type": "stream",
          "name": "stdout",
          "text": [
            "..............................p..............................\n",
            "............................p.o.p............................\n",
            "..........................p.o.n.o.p..........................\n",
            "........................p.o.n.m.n.o.p........................\n",
            "......................p.o.n.m.l.m.n.o.p......................\n",
            "....................p.o.n.m.l.k.l.m.n.o.p....................\n",
            "..................p.o.n.m.l.k.j.k.l.m.n.o.p..................\n",
            "................p.o.n.m.l.k.j.i.j.k.l.m.n.o.p................\n",
            "..............p.o.n.m.l.k.j.i.h.i.j.k.l.m.n.o.p..............\n",
            "............p.o.n.m.l.k.j.i.h.g.h.i.j.k.l.m.n.o.p............\n",
            "..........p.o.n.m.l.k.j.i.h.g.f.g.h.i.j.k.l.m.n.o.p..........\n",
            "........p.o.n.m.l.k.j.i.h.g.f.e.f.g.h.i.j.k.l.m.n.o.p........\n",
            "......p.o.n.m.l.k.j.i.h.g.f.e.d.e.f.g.h.i.j.k.l.m.n.o.p......\n",
            "....p.o.n.m.l.k.j.i.h.g.f.e.d.c.d.e.f.g.h.i.j.k.l.m.n.o.p....\n",
            "..p.o.n.m.l.k.j.i.h.g.f.e.d.c.b.c.d.e.f.g.h.i.j.k.l.m.n.o.p..\n",
            "p.o.n.m.l.k.j.i.h.g.f.e.d.c.b.a.b.c.d.e.f.g.h.i.j.k.l.m.n.o.p\n",
            "..p.o.n.m.l.k.j.i.h.g.f.e.d.c.b.c.d.e.f.g.h.i.j.k.l.m.n.o.p..\n",
            "....p.o.n.m.l.k.j.i.h.g.f.e.d.c.d.e.f.g.h.i.j.k.l.m.n.o.p....\n",
            "......p.o.n.m.l.k.j.i.h.g.f.e.d.e.f.g.h.i.j.k.l.m.n.o.p......\n",
            "........p.o.n.m.l.k.j.i.h.g.f.e.f.g.h.i.j.k.l.m.n.o.p........\n",
            "..........p.o.n.m.l.k.j.i.h.g.f.g.h.i.j.k.l.m.n.o.p..........\n",
            "............p.o.n.m.l.k.j.i.h.g.h.i.j.k.l.m.n.o.p............\n",
            "..............p.o.n.m.l.k.j.i.h.i.j.k.l.m.n.o.p..............\n",
            "................p.o.n.m.l.k.j.i.j.k.l.m.n.o.p................\n",
            "..................p.o.n.m.l.k.j.k.l.m.n.o.p..................\n",
            "....................p.o.n.m.l.k.l.m.n.o.p....................\n",
            "......................p.o.n.m.l.m.n.o.p......................\n",
            "........................p.o.n.m.n.o.p........................\n",
            "..........................p.o.n.o.p..........................\n",
            "............................p.o.p............................\n",
            "..............................p..............................\n"
          ]
        }
      ]
    },
    {
      "cell_type": "code",
      "metadata": {
        "trusted": true,
        "id": "ZpEb_FOc0MQL"
      },
      "source": [
        ""
      ],
      "execution_count": null,
      "outputs": []
    }
  ]
}