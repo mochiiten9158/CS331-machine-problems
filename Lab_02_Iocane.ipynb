{
  "nbformat": 4,
  "nbformat_minor": 0,
  "metadata": {
    "kernelspec": {
      "name": "python3",
      "display_name": "Python 3",
      "language": "python"
    },
    "language_info": {
      "name": "python",
      "version": "3.7.3",
      "mimetype": "text/x-python",
      "codemirror_mode": {
        "name": "ipython",
        "version": 3
      },
      "pygments_lexer": "ipython3",
      "nbconvert_exporter": "python",
      "file_extension": ".py"
    },
    "mimir": {
      "project_id": "8f7715b9-ee27-4072-8e3b-1f9cb26d2ece",
      "last_submission_id": "",
      "data": {}
    },
    "varInspector": {
      "window_display": false,
      "cols": {
        "lenName": 16,
        "lenType": 16,
        "lenVar": 40
      },
      "kernels_config": {
        "python": {
          "library": "var_list.py",
          "delete_cmd_prefix": "del ",
          "delete_cmd_postfix": "",
          "varRefreshCmd": "print(var_dic_list())"
        },
        "r": {
          "library": "var_list.r",
          "delete_cmd_prefix": "rm(",
          "delete_cmd_postfix": ") ",
          "varRefreshCmd": "cat(var_dic_list()) "
        }
      },
      "types_to_exclude": [
        "module",
        "function",
        "builtin_function_or_method",
        "instance",
        "_Feature"
      ]
    },
    "colab": {
      "name": "Lab 02 : Iocane.ipynb",
      "provenance": [],
      "collapsed_sections": [],
      "include_colab_link": true
    }
  },
  "cells": [
    {
      "cell_type": "markdown",
      "metadata": {
        "id": "view-in-github",
        "colab_type": "text"
      },
      "source": [
        "<a href=\"https://colab.research.google.com/github/mochiiten9158/CS331-machine-problems/blob/main/Lab_02_Iocane.ipynb\" target=\"_parent\"><img src=\"https://colab.research.google.com/assets/colab-badge.svg\" alt=\"Open In Colab\"/></a>"
      ]
    },
    {
      "cell_type": "markdown",
      "metadata": {
        "state": "normal",
        "id": "0E1_qqD-H_8U"
      },
      "source": [
        "# Lab 02: Iocane Powder\n",
        "\n",
        "## Overview\n",
        "\n",
        "> Man in Black: All right. Where is the poison? The battle of wits has begun. It ends when you decide and we both drink, and find out who is right... and who is dead. \n",
        "\n",
        "The line above is from the perennial favorite 1980s movie adaptation of William Goldman's *The Princess Bride*, wherein a mysterious hero sits down to a battle of wits with a villainous Sicilian kidnapper. The setup: two cups positioned between the two, one of which (purportedly) contains a colorless, odorless, lethal poison (viz., iocane powder). After a guess is made as to which cup contains the poison, both drink, and the winner is the one left standing.\n",
        "\n",
        "For this machine problem you will write a program that simulates multiple rounds of this battle of wits, allowing the player to repeatedly guess which cup is poisoned. The computer will \"place\" the poison before the player guesses, and\n",
        "will reveal who is right... and who is dead, afterwards.\n",
        "\n",
        "At the outset, the computer will always place the poison in cup 2 before letting the player guess, but after enough guesses have been entered the computer will start to place the poison based on the pattern of previous guesses so as to outsmart the player.\n",
        "\n",
        "Here's a sample game session (note how the silly player keeps alternating guesses, and that the computer catches on to this fact after a while):\n",
        "\n",
        "    Where is the iocane powder: my cup (1) or yours (2)? 1\n",
        "    Wrong! Ha! Never bet against a Sicilian!\n",
        "\n",
        "    You died 1 times, and I drank the poison 0 times\n",
        "\n",
        "    Where is the iocane powder: my cup (1) or yours (2)? 2\n",
        "    Good guess! Ack! I drank the poison!\n",
        "\n",
        "    You died 1 times, and I drank the poison 1 times\n",
        "\n",
        "    Where is the iocane powder: my cup (1) or yours (2)? 1\n",
        "    Wrong! Ha! Never bet against a Sicilian!\n",
        "\n",
        "    You died 2 times, and I drank the poison 1 times\n",
        "\n",
        "    Where is the iocane powder: my cup (1) or yours (2)? 2\n",
        "    Good guess! Ack! I drank the poison!\n",
        "\n",
        "    You died 2 times, and I drank the poison 2 times\n",
        "\n",
        "    Where is the iocane powder: my cup (1) or yours (2)? 1\n",
        "    Wrong! Ha! Never bet against a Sicilian!\n",
        "\n",
        "    You died 3 times, and I drank the poison 2 times\n",
        "\n",
        "    Where is the iocane powder: my cup (1) or yours (2)? 2\n",
        "    Wrong! Ha! Never bet against a Sicilian!\n",
        "\n",
        "    You died 4 times, and I drank the poison 2 times\n",
        "\n",
        "    Where is the iocane powder: my cup (1) or yours (2)? 1\n",
        "    Wrong! Ha! Never bet against a Sicilian!\n",
        "\n",
        "    You died 5 times, and I drank the poison 2 times\n",
        "\n",
        "    Where is the iocane powder: my cup (1) or yours (2)? 2\n",
        "    Wrong! Ha! Never bet against a Sicilian!\n",
        "\n",
        "    You died 6 times, and I drank the poison 2 times\n",
        "\n",
        "    Where is the iocane powder: my cup (1) or yours (2)? 1\n",
        "    Wrong! Ha! Never bet against a Sicilian!\n",
        "\n",
        "    You died 7 times, and I drank the poison 2 times\n",
        "\n",
        "\n",
        "## Implementation\n",
        "\n",
        "To keep track of the pattern of previous guesses, you will use a dictionary that maps a pattern (of fixed length) to a list of counts for the subsequent guess. \n",
        "\n",
        "For instance, imagine that the computer observes the player continuing to alternate guesses across ten separate attempts, like so: '1', '2', '1', '2', '1', '2', '1', '2', '1', '2'. If we are using a pattern detection length of three, then after the fourth guess we can create an entry in our dictionary that maps the key '121' to the list [0, 1], where the second value (1) in the list indicates that the player guessed '2' following the sequence '1', '2', '1'. After the fifth guess, we create the entry '212' &rarr; [1, 0], and after the sixth guess we update the value for '121' to [0, 2] (since the user guesses '2' again, after the sequence '1', '2', '1').\n",
        "\n",
        "Once the player enters a series of guesses that matches a previously seen pattern, the computer should place the poison in the cup that the player is *least likely to guess next*. When the player enters the next guess, the dictionary should be updated to reflect the actual guess.\n",
        "\n",
        "This means that if the computer has yet to see a given pattern of guesses, or when the counts are tied, it will have to place the poison \"blindly\" --- your implementation should simply place the poison furthest away from itself (cup 2). \n",
        "\n",
        "### `record_guess`\n",
        "\n",
        "The first function you are to complete is `record_guess`. It will take the following arguments:\n",
        "\n",
        "- a dictionary to update (possibly containing previously recorded pattern &rarr; list mappings)\n",
        "- a pattern string\n",
        "- a guess -- which is either '1' or '2'.  \n",
        "\n",
        "If necessary, the function will create a new entry for the pattern (if one doesn't already exist), then record the updated count for the guess. Since the dictionary is updated in place (i.e., mutated), the function will not return anything. \n",
        "\n",
        "Complete the function below, checking your implementation with the test cases that follow when you're ready. Note that in the future, the bulk of the description for functions we ask you to implement will simply be placed in the functions' docstrings, as below.\n",
        "\n",
        "*Hints: the [`int`](https://docs.python.org/3/library/functions.html#int) function can be used to convert strings to integers, and you might find the dictionary's [`setdefault`](https://docs.python.org/3/library/stdtypes.html?highlight=setdefault#dict.setdefault) method useful.*"
      ]
    },
    {
      "cell_type": "code",
      "metadata": {
        "collapsed": true,
        "nbgrader": {
          "grade": false,
          "grade_id": "record_guess",
          "locked": false,
          "schema_version": 1,
          "solution": true
        },
        "id": "record_guess",
        "state": "graded",
        "deletable": false,
        "starter_code": "def record_guess(pattern_dict, pattern, guess):\n    \"\"\"Updates the `pattern_dict` dictionary by either creating a new entry\n    or updating an existing entry for key `pattern`, increasing the count \n    corresponding to `guess` in the list.\"\"\"\n    ",
        "trusted": false
      },
      "source": [
        "def record_guess(pattern_dict, pattern, guess):\n",
        "    \"\"\"Updates the `pattern_dict` dictionary by either creating a new entry\n",
        "    or updating an existing entry for key `pattern`, increasing the count \n",
        "    corresponding to `guess` in the list.\"\"\"\n",
        "    l = int(guess)\n",
        "    list_map =[]\n",
        "    \n",
        "    if pattern in pattern_dict:\n",
        "        list_map = pattern_dict.setdefault(pattern, [0,0])\n",
        "        if l == 1:\n",
        "            list_map[0] += 1\n",
        "            pattern_dict[pattern] = list_map\n",
        "        else:\n",
        "            list_map[1] += 1\n",
        "            pattern_dict[pattern] = list_map\n",
        "            \n",
        "    if pattern not in pattern_dict:\n",
        "        if l == 1:\n",
        "            pattern_dict[pattern] = [1,0]\n",
        "        else:\n",
        "            pattern_dict[pattern] = [0,1]\n",
        "    "
      ],
      "execution_count": 1,
      "outputs": []
    },
    {
      "cell_type": "code",
      "metadata": {
        "nbgrader": {
          "grade": true,
          "grade_id": "test_record_guess",
          "locked": true,
          "points": 5,
          "schema_version": 1,
          "solution": false
        },
        "id": "test_record_guess",
        "state": "read_only",
        "editable": false,
        "deletable": false,
        "trusted": false
      },
      "source": [
        "# (5 points)\n",
        "\n",
        "from unittest import TestCase\n",
        "tc = TestCase()\n",
        "d = {}\n",
        "record_guess(d, '121', '1')\n",
        "tc.assertDictEqual(d, {'121': [1, 0]})\n",
        "record_guess(d, '222', '2')\n",
        "record_guess(d, '121', '1')\n",
        "tc.assertDictEqual(d, {'121': [2, 0], '222': [0, 1]})\n",
        "record_guess(d, '122', '2')\n",
        "record_guess(d, '121', '2')\n",
        "record_guess(d, '222', '2')\n",
        "tc.assertDictEqual(d, {'121': [2, 1], '122': [0, 1], '222': [0, 2]})"
      ],
      "execution_count": 2,
      "outputs": []
    },
    {
      "cell_type": "markdown",
      "metadata": {
        "state": "normal",
        "id": "g-5rdb6aH_8f"
      },
      "source": [
        "### `next_placement`\n",
        "\n",
        "The next function you'll write will take a dictionary of pattern &rarr; counts mappings and a string representing the pattern of most recent guesses, and return the next best location (either '1' or '2') for the poison (i.e., to try and outwit the player). If the pattern hasn't been seen previously or the counts are tied, the function should return '2'."
      ]
    },
    {
      "cell_type": "code",
      "metadata": {
        "collapsed": true,
        "nbgrader": {
          "grade": false,
          "grade_id": "next_placement",
          "locked": false,
          "schema_version": 1,
          "solution": true
        },
        "id": "next_placement",
        "state": "graded",
        "deletable": false,
        "starter_code": "def next_placement(pattern_dict, pattern):\n    ",
        "trusted": false
      },
      "source": [
        "def next_placement(pattern_dict, pattern):\n",
        "  mapping = []\n",
        "  if pattern in pattern_dict:\n",
        "    mapping = pattern_dict.setdefault(pattern , [0,0])\n",
        "    if mapping[0] == mapping[1]:\n",
        "      return '2'\n",
        "    elif mapping[0] > mapping[1]:\n",
        "      return '2'\n",
        "    else:\n",
        "      return '1'\n",
        "  else:\n",
        "    return '2'\n",
        "    "
      ],
      "execution_count": 3,
      "outputs": []
    },
    {
      "cell_type": "code",
      "metadata": {
        "nbgrader": {
          "grade": true,
          "grade_id": "test_next_placement",
          "locked": true,
          "points": 5,
          "schema_version": 1,
          "solution": false
        },
        "id": "test_next_placement",
        "state": "read_only",
        "editable": false,
        "deletable": false,
        "trusted": false
      },
      "source": [
        "# (5 points)\n",
        "\n",
        "from unittest import TestCase\n",
        "tc = TestCase()\n",
        "tc.assertEqual(next_placement({}, '121'), '2')\n",
        "tc.assertEqual(next_placement({'121': [2, 0]}, '121'), '2')\n",
        "tc.assertEqual(next_placement({'121': [2, 5]}, '121'), '1')\n",
        "tc.assertEqual(next_placement({'121': [2, 5]}, '212'), '2')\n",
        "tc.assertEqual(next_placement({'121': [5, 5]}, '121'), '2')\n",
        "tc.assertEqual(next_placement({'121': [15, 5]}, '121'), '2')\n",
        "tc.assertEqual(next_placement({'121': [2, 5],\n",
        "                               '212': [1, 1]}, '212'), '2')\n",
        "tc.assertEqual(next_placement({'121': [2, 5],\n",
        "                               '212': [1, 3]}, '212'), '1')"
      ],
      "execution_count": 4,
      "outputs": []
    },
    {
      "cell_type": "markdown",
      "metadata": {
        "state": "normal",
        "id": "Hm4esPiKH_8g"
      },
      "source": [
        "### `play_interactive`\n",
        "\n",
        "Now for the fun bit. The function `play_interactive` will take just one argument --- the length of patterns to use as keys in the dictionary --- and will start an interactive game session, reading either '1' or '2' from the player as guesses, using the functions you wrote above and producing output as shown in the sample game session at the beginning of this writeup. If the player types in any other input (besides '1' or '2'), the game should terminate.\n",
        "\n",
        "*Hint: the [`input`](https://docs.python.org/3/library/functions.html#input) function can be used to read input from the user as a string.*"
      ]
    },
    {
      "cell_type": "code",
      "metadata": {
        "nbgrader": {
          "grade": true,
          "grade_id": "play_interactive",
          "locked": false,
          "points": 0,
          "schema_version": 1,
          "solution": true
        },
        "id": "play_interactive",
        "state": "graded",
        "deletable": false,
        "starter_code": "def play_interactive(pattern_length=4):\n    ",
        "trusted": false,
        "colab": {
          "base_uri": "https://localhost:8080/"
        },
        "outputId": "cd21b4eb-f0d8-42e0-8176-7c4ee213b381"
      },
      "source": [
        "def play_interactive(pattern_length=4):\n",
        "    d = {} # create dictionary\n",
        "    s = '' # stores consecutive choices\n",
        "    w = 0 # number of wins\n",
        "    l = 0 # number of losses\n",
        "    g = 0 # to store the guess from next_placement()\n",
        "\n",
        "    choice = int(input('Where is the iocane powder: my cup (1) or yours (2)? '))\n",
        "\n",
        "    # if my choice is 1 or 2, then...\n",
        "    while choice == 1 or choice == 2:\n",
        "        s = s + str(choice)\n",
        "        if len(s) > pattern_length:\n",
        "            g = next_placement(d , s[-5:-1])\n",
        "            record_guess(d , s[-5:-1] , s[-1])\n",
        "            if int(g) == choice:\n",
        "                print('Good guess! Ack! I drank the poison!')\n",
        "                l += 1\n",
        "            else:\n",
        "                print('Wrong! Ha! Never bet against a Sicilian!')\n",
        "                w += 1\n",
        "        else:\n",
        "            g = next_placement(d , s)\n",
        "            if int(g) == choice:\n",
        "                print('Good guess! Ack! I drank the poison!')\n",
        "                l += 1\n",
        "            else:\n",
        "                print('Wrong! Ha! Never bet against a Sicilian!')\n",
        "                w += 1\n",
        "\n",
        "        print('You died ' + str(w) + ' times, and I drank the poison ' + str(l) +' times')\n",
        "\n",
        "        choice = int(input('\\nWhere is the iocane powder: my cup (1) or yours (2)? '))\n",
        "\n",
        "    if choice != 1 and choice != 2:\n",
        "        print('\\nIncorrect choice. Terminating...Goodbye Westley (･ω･)ﾉ')\n",
        "\n",
        "play_interactive()"
      ],
      "execution_count": 5,
      "outputs": [
        {
          "output_type": "stream",
          "name": "stdout",
          "text": [
            "Where is the iocane powder: my cup (1) or yours (2)? 1\n",
            "Wrong! Ha! Never bet against a Sicilian!\n",
            "You died 1 times, and I drank the poison 0 times\n",
            "\n",
            "Where is the iocane powder: my cup (1) or yours (2)? 2\n",
            "Good guess! Ack! I drank the poison!\n",
            "You died 1 times, and I drank the poison 1 times\n",
            "\n",
            "Where is the iocane powder: my cup (1) or yours (2)? 1\n",
            "Wrong! Ha! Never bet against a Sicilian!\n",
            "You died 2 times, and I drank the poison 1 times\n",
            "\n",
            "Where is the iocane powder: my cup (1) or yours (2)? 2\n",
            "Good guess! Ack! I drank the poison!\n",
            "You died 2 times, and I drank the poison 2 times\n",
            "\n",
            "Where is the iocane powder: my cup (1) or yours (2)? 1\n",
            "Wrong! Ha! Never bet against a Sicilian!\n",
            "You died 3 times, and I drank the poison 2 times\n",
            "\n",
            "Where is the iocane powder: my cup (1) or yours (2)? 2\n",
            "Good guess! Ack! I drank the poison!\n",
            "You died 3 times, and I drank the poison 3 times\n",
            "\n",
            "Where is the iocane powder: my cup (1) or yours (2)? 1\n",
            "Wrong! Ha! Never bet against a Sicilian!\n",
            "You died 4 times, and I drank the poison 3 times\n",
            "\n",
            "Where is the iocane powder: my cup (1) or yours (2)? 2\n",
            "Wrong! Ha! Never bet against a Sicilian!\n",
            "You died 5 times, and I drank the poison 3 times\n",
            "\n",
            "Where is the iocane powder: my cup (1) or yours (2)? 1\n",
            "Wrong! Ha! Never bet against a Sicilian!\n",
            "You died 6 times, and I drank the poison 3 times\n",
            "\n",
            "Where is the iocane powder: my cup (1) or yours (2)? 2\n",
            "Wrong! Ha! Never bet against a Sicilian!\n",
            "You died 7 times, and I drank the poison 3 times\n",
            "\n",
            "Where is the iocane powder: my cup (1) or yours (2)? 1\n",
            "Wrong! Ha! Never bet against a Sicilian!\n",
            "You died 8 times, and I drank the poison 3 times\n",
            "\n",
            "Where is the iocane powder: my cup (1) or yours (2)? 2\n",
            "Wrong! Ha! Never bet against a Sicilian!\n",
            "You died 9 times, and I drank the poison 3 times\n",
            "\n",
            "Where is the iocane powder: my cup (1) or yours (2)? 3\n",
            "\n",
            "Incorrect choice. Terminating...Goodbye Westley (･ω･)ﾉ\n"
          ]
        }
      ]
    },
    {
      "cell_type": "markdown",
      "metadata": {
        "state": "normal",
        "id": "sU8KblvIH_8i"
      },
      "source": [
        "2### `play_batch`\n",
        "\n",
        "Finally, so that we can check your implementation against a lengthier sequence of guesses without having to play an interactive session, implement the `play_batch` function, which will take the `pattern_length` argument as your `play_interactive` function did, but will also take a sequence of guesses. The function will return the total numbers of wins and losses, as determined by the same algorithm as before."
      ]
    },
    {
      "cell_type": "code",
      "metadata": {
        "collapsed": true,
        "nbgrader": {
          "grade": false,
          "grade_id": "play_batch",
          "locked": false,
          "schema_version": 1,
          "solution": true
        },
        "id": "play_batch",
        "state": "graded",
        "deletable": false,
        "starter_code": "def play_batch(guesses, pattern_length=4):\n    ",
        "trusted": false
      },
      "source": [
        "def play_batch(guesses, pattern_length=4):\n",
        "  d = {} # create dictionary\n",
        "  s = '' # stores consecutive choices\n",
        "  w = 0 # number of wins of computer\n",
        "  l = 0 # number of losses of computer\n",
        "  g = 0 # to store the guess from next_placement()\n",
        "  guess = []\n",
        "  guess.extend(guesses)\n",
        "  i = 0 # loop control variable \n",
        "    \n",
        "  while True:\n",
        "    try:\n",
        "      # if my choice is 1 or 2, then...\n",
        "      while guess[i] != None:\n",
        "        choice = guess[i]\n",
        "        s = s + choice\n",
        "        if len(s) >  pattern_length:\n",
        "          g = next_placement(d , s[-(pattern_length + 1):-1])\n",
        "          record_guess(d , s[-(pattern_length + 1):-1] , s[-1])\n",
        "          if str(g) == choice:\n",
        "             l += 1\n",
        "          elif str(g) != choice:\n",
        "             w += 1\n",
        "        else:\n",
        "          g = next_placement(d , s)\n",
        "          if str(g) == choice:\n",
        "            l += 1\n",
        "          elif str(g) != choice:\n",
        "            w += 1\n",
        "        i += 1\n",
        "\n",
        "    except IndexError:\n",
        "      break\n",
        "  return(l,w)     "
      ],
      "execution_count": 6,
      "outputs": []
    },
    {
      "cell_type": "code",
      "metadata": {
        "nbgrader": {
          "grade": true,
          "grade_id": "test_play_batch",
          "locked": true,
          "points": 10,
          "schema_version": 1,
          "solution": false
        },
        "id": "test_play_batch",
        "state": "read_only",
        "editable": false,
        "deletable": false,
        "trusted": false
      },
      "source": [
        "# (10 points)\n",
        "\n",
        "from unittest import TestCase\n",
        "tc = TestCase()\n",
        "tc.assertEqual(play_batch(['1', '1', '1', '1', '1', '1'], 3), (0, 6))\n",
        "tc.assertEqual(play_batch(['1', '2', '1', '2', '1', '2'], 3), (2, 4))\n",
        "tc.assertEqual(play_batch(['1', '2', '1', '2', '1', '2'], 4), (3, 3))\n",
        "tc.assertEqual(play_batch(['1', '2'] * 100, 5), (3, 197))\n",
        "tc.assertEqual(play_batch(['1', '1', '2', '1', '2', '1'] * 100, 2), (398, 202))\n",
        "tc.assertEqual(play_batch(['1', '1', '2', '1', '2', '1'] * 100, 3), (201, 399))\n",
        "tc.assertEqual(play_batch(['1', '1', '2', '1', '2', '1'] * 100, 5), (4, 596))\n",
        "import random\n",
        "random.seed(0, version=2)\n",
        "tc.assertEqual(play_batch((random.choice(['1', '2']) for _ in range(10000)), 4), (5047, 4953))"
      ],
      "execution_count": 7,
      "outputs": []
    },
    {
      "cell_type": "code",
      "metadata": {
        "id": "SslNzt13EhJQ"
      },
      "source": [
        ""
      ],
      "execution_count": null,
      "outputs": []
    }
  ]
}