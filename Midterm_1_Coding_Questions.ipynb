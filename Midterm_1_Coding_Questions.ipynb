{
  "nbformat": 4,
  "nbformat_minor": 0,
  "metadata": {
    "colab": {
      "name": "Midterm 1 Coding Questions",
      "provenance": [],
      "collapsed_sections": [
        "dJZVTX0fB2Zz",
        "qBzq7UWvBSoV",
        "_uw0AK7d7imN",
        "KXzhaXXx2Aad"
      ],
      "authorship_tag": "ABX9TyMT8ANq/kFktfb2MzhijYjm",
      "include_colab_link": true
    },
    "kernelspec": {
      "name": "python3",
      "display_name": "Python 3"
    },
    "language_info": {
      "name": "python"
    }
  },
  "cells": [
    {
      "cell_type": "markdown",
      "metadata": {
        "id": "view-in-github",
        "colab_type": "text"
      },
      "source": [
        "<a href=\"https://colab.research.google.com/github/mochiiten9158/CS331-machine-problems/blob/main/Midterm_1_Coding_Questions.ipynb\" target=\"_parent\"><img src=\"https://colab.research.google.com/assets/colab-badge.svg\" alt=\"Open In Colab\"/></a>"
      ]
    },
    {
      "cell_type": "markdown",
      "metadata": {
        "id": "dJZVTX0fB2Zz"
      },
      "source": [
        "# Question 1"
      ]
    },
    {
      "cell_type": "code",
      "metadata": {
        "id": "iwavYAWCBW_X"
      },
      "source": [
        "def invert_and_merge(*dicts):\n",
        "    rdict = {}\n",
        "    # YOUR CODE HERE\n",
        "    if dicts:\n",
        "        for d in dicts:\n",
        "            for key,value in d.items():\n",
        "                if value in rdict:\n",
        "                  lst = list(rdict[value])\n",
        "                  lst.append(key)\n",
        "                  rdict[value] = set(lst)\n",
        "                elif value not in rdict:\n",
        "                  l = [key]\n",
        "                  rdict[value] = set(l)\n",
        "    return rdict"
      ],
      "execution_count": 37,
      "outputs": []
    },
    {
      "cell_type": "code",
      "metadata": {
        "id": "nFEXqP5ZBcYS"
      },
      "source": [
        "assert invert_and_merge({'a': 1, 'b': 2, 'c': 1, 'd': 1, 'e': 2}) == {1: {'a', 'c', 'd'}, 2: {'b', 'e'}}"
      ],
      "execution_count": 38,
      "outputs": []
    },
    {
      "cell_type": "code",
      "metadata": {
        "id": "7fr19qdUBhjL"
      },
      "source": [
        "in_dicts = [{'a': 'apple', 'b': 'bee', 'c': 'cat'},\n",
        "            {'insect': 'bee', 'mammal': 'cat', 'feline': 'cat'},\n",
        "            {'citrus': 'orange', 'pome': 'apple', 'pollinator': 'bee'}]\n",
        "res_dict = {'apple': {'a', 'pome'},\n",
        "            'bee': {'b', 'insect', 'pollinator'},\n",
        "            'cat': {'c', 'feline', 'mammal'},\n",
        "            'orange': {'citrus'}}\n",
        "            \n",
        "assert invert_and_merge(*in_dicts) == res_dict"
      ],
      "execution_count": 39,
      "outputs": []
    },
    {
      "cell_type": "code",
      "metadata": {
        "id": "7vq1NGl7Bvm3"
      },
      "source": [
        "in_dicts = [{x: 2*x for x in range(1, 20)},\n",
        "            {x: 3*x for x in range(1, 13)},\n",
        "            {x: 4*x for x in range(1, 10)}]\n",
        "res_dict =  {2: {1},\n",
        "             4: {1, 2},\n",
        "             6: {2, 3},\n",
        "             8: {2, 4},\n",
        "             10: {5},\n",
        "             12: {3, 4, 6},\n",
        "             14: {7},\n",
        "             16: {4, 8},\n",
        "             18: {6, 9},\n",
        "             20: {5, 10},\n",
        "             22: {11},\n",
        "             24: {6, 8, 12},\n",
        "             26: {13},\n",
        "             28: {7, 14},\n",
        "             30: {10, 15},\n",
        "             32: {8, 16},\n",
        "             34: {17},\n",
        "             36: {9, 12, 18},\n",
        "             38: {19},\n",
        "             3: {1},\n",
        "             9: {3},\n",
        "             15: {5},\n",
        "             21: {7},\n",
        "             27: {9},\n",
        "             33: {11}}\n",
        "assert invert_and_merge(*in_dicts) == res_dict"
      ],
      "execution_count": 40,
      "outputs": []
    },
    {
      "cell_type": "markdown",
      "metadata": {
        "id": "qBzq7UWvBSoV"
      },
      "source": [
        "# Question 2"
      ]
    },
    {
      "cell_type": "code",
      "metadata": {
        "id": "XfraJvIt7oUT"
      },
      "source": [
        "def score_sentences(passage):\n",
        "    sentences = passage.split('\\n')\n",
        "    scores = { s: 0 for s in sentences }\n",
        "    passage_words = passage.split()\n",
        "    passage_word_counts = {}\n",
        "    for w in passage_words:\n",
        "      if w in passage_word_counts:\n",
        "        passage_word_counts[w] += 1\n",
        "      else:\n",
        "        passage_word_counts[w] = 1\n",
        "    for s in sentences:\n",
        "      sum = 0\n",
        "      sentence_words = s.split()\n",
        "      for w in sentence_words:\n",
        "        num = 1/(passage_word_counts[w])\n",
        "        sum += num\n",
        "      scores[s] = sum\n",
        "    return scores"
      ],
      "execution_count": 41,
      "outputs": []
    },
    {
      "cell_type": "code",
      "metadata": {
        "colab": {
          "base_uri": "https://localhost:8080/"
        },
        "id": "VDo1MMUdAR3K",
        "outputId": "fe8838a0-52b4-494f-d77d-1ecfdf4ad74f"
      },
      "source": [
        "p = \"I love cake\\nlove is good cake\\ncake cake cake\\nvanilla cake.\"\n",
        "score_sentences(p)"
      ],
      "execution_count": 42,
      "outputs": [
        {
          "output_type": "execute_result",
          "data": {
            "text/plain": [
              "{'I love cake': 1.7,\n",
              " 'cake cake cake': 0.6000000000000001,\n",
              " 'love is good cake': 2.7,\n",
              " 'vanilla cake.': 2.0}"
            ]
          },
          "metadata": {},
          "execution_count": 42
        }
      ]
    },
    {
      "cell_type": "markdown",
      "metadata": {
        "id": "_uw0AK7d7imN"
      },
      "source": [
        "# Question 3"
      ]
    },
    {
      "cell_type": "code",
      "metadata": {
        "id": "EY94pCHD58_f"
      },
      "source": [
        "import itertools\n",
        "def interleave(*lsts):\n",
        "    num_active = len(lsts)\n",
        "    nexts = itertools.cycle(iter(it).__next__ for it in lsts)\n",
        "    while num_active:\n",
        "        try:\n",
        "            for next in nexts:\n",
        "                yield next()\n",
        "        except StopIteration:\n",
        "            num_active -= 1\n",
        "            nexts = itertools.cycle(itertools.islice(nexts, num_active))"
      ],
      "execution_count": 43,
      "outputs": []
    },
    {
      "cell_type": "code",
      "metadata": {
        "id": "JWUcgx9B6kBT"
      },
      "source": [
        "res = list(interleave([1, 2, 3], [10, 20, 30], [100, 200, 300]))\n",
        "assert res == [1, 10, 100, 2, 20, 200, 3, 30, 300]"
      ],
      "execution_count": 44,
      "outputs": []
    },
    {
      "cell_type": "code",
      "metadata": {
        "id": "wLcTCKZi7WEA"
      },
      "source": [
        "res = list(interleave(['a','b','c'], [1,2], ['d','e','f','g'], [10,20,30]))\n",
        "assert res == ['a', 1, 'd', 10, 'b', 2, 'e', 20, 'c', 'f', 30, 'g']"
      ],
      "execution_count": 45,
      "outputs": []
    },
    {
      "cell_type": "markdown",
      "metadata": {
        "id": "KXzhaXXx2Aad"
      },
      "source": [
        "# Question 4\n",
        "\n"
      ]
    },
    {
      "cell_type": "code",
      "metadata": {
        "id": "WfIvIVII0miM"
      },
      "source": [
        "class ArrayList:\n",
        "    def __init__(self):\n",
        "        self.data = []\n",
        "        self.cursor = 0\n",
        "        \n",
        "    def append(self, val):\n",
        "        self.data.append(None)\n",
        "        self.data[len(self.data)-1] = val\n",
        "    \n",
        "    def cursor_set(self, idx):\n",
        "        self.cursor = idx\n",
        "    \n",
        "    def cursor_insert(self, val):\n",
        "        # YOUR CODE HERE\n",
        "        p = self.cursor\n",
        "        self.data.append(None)\n",
        "        for i in reversed(range(p + 1, len(self.data))):\n",
        "            self.data[i] = self.data[i-1]\n",
        "        self.data[p] = val\n",
        "        l.cursor_set(p+1)"
      ],
      "execution_count": 46,
      "outputs": []
    },
    {
      "cell_type": "code",
      "metadata": {
        "id": "qUb1uhYj0s2B"
      },
      "source": [
        "l = ArrayList()\n",
        "for i in range(10):\n",
        "    l.append(i)\n",
        "l.cursor_set(5)\n",
        "l.cursor_insert('a')\n",
        "l.cursor_insert('b')\n",
        "l.cursor_insert('c')\n",
        "assert l.data == [0, 1, 2, 3, 4, 'a', 'b', 'c', 5, 6, 7, 8, 9]"
      ],
      "execution_count": 47,
      "outputs": []
    },
    {
      "cell_type": "code",
      "metadata": {
        "id": "SVzdT5731xne"
      },
      "source": [
        "l = ArrayList()\n",
        "for i in range(10):\n",
        "    l.cursor_insert(i)\n",
        "assert l.data == [0, 1, 2, 3, 4, 5, 6, 7, 8, 9]"
      ],
      "execution_count": 48,
      "outputs": []
    },
    {
      "cell_type": "code",
      "metadata": {
        "id": "Ag1mmL6712nm"
      },
      "source": [
        "l = ArrayList()\n",
        "for i in range(10):\n",
        "    l.append(i)\n",
        "    \n",
        "l.cursor_set(0)\n",
        "l.cursor_insert('a')\n",
        "l.cursor_insert('b')\n",
        "l.cursor_set(3)\n",
        "l.cursor_insert('c')\n",
        "assert l.data == ['a', 'b', 0, 'c', 1, 2, 3, 4, 5, 6, 7, 8, 9]"
      ],
      "execution_count": 49,
      "outputs": []
    }
  ]
}