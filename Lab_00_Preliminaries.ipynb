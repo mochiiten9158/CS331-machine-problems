{
  "nbformat": 4,
  "nbformat_minor": 0,
  "metadata": {
    "kernelspec": {
      "name": "python3",
      "display_name": "Python 3",
      "language": "python"
    },
    "language_info": {
      "name": "python",
      "version": "3.7.3",
      "mimetype": "text/x-python",
      "codemirror_mode": {
        "name": "ipython",
        "version": 3
      },
      "pygments_lexer": "ipython3",
      "nbconvert_exporter": "python",
      "file_extension": ".py"
    },
    "mimir": {
      "project_id": "b8cb9c46-2d8f-4302-ae81-8e5d6a7e8600",
      "last_submission_id": "effd67fe-aa0d-438a-bd17-cd286bb98fa1",
      "data": {}
    },
    "varInspector": {
      "window_display": false,
      "cols": {
        "lenName": 16,
        "lenType": 16,
        "lenVar": 40
      },
      "kernels_config": {
        "python": {
          "library": "var_list.py",
          "delete_cmd_prefix": "del ",
          "delete_cmd_postfix": "",
          "varRefreshCmd": "print(var_dic_list())"
        },
        "r": {
          "library": "var_list.r",
          "delete_cmd_prefix": "rm(",
          "delete_cmd_postfix": ") ",
          "varRefreshCmd": "cat(var_dic_list()) "
        }
      },
      "types_to_exclude": [
        "module",
        "function",
        "builtin_function_or_method",
        "instance",
        "_Feature"
      ]
    },
    "colab": {
      "name": "Lab 00 : Preliminaries.ipynb",
      "provenance": [],
      "include_colab_link": true
    }
  },
  "cells": [
    {
      "cell_type": "markdown",
      "metadata": {
        "id": "view-in-github",
        "colab_type": "text"
      },
      "source": [
        "<a href=\"https://colab.research.google.com/github/mochiiten9158/CS331-machine-problems/blob/main/Lab_00_Preliminaries.ipynb\" target=\"_parent\"><img src=\"https://colab.research.google.com/assets/colab-badge.svg\" alt=\"Open In Colab\"/></a>"
      ]
    },
    {
      "cell_type": "markdown",
      "metadata": {
        "state": "normal",
        "id": "cE4Pmgbjwvei"
      },
      "source": [
        "# Lab 00: Preliminaries"
      ]
    },
    {
      "cell_type": "markdown",
      "metadata": {
        "state": "normal",
        "id": "ozZ7qe_Qwvel"
      },
      "source": [
        "Welcome to **CS 331: Data Structures and Algorithms**!\n",
        "\n",
        "You will be using [Project Jupyter](https://jupyter.org) — a platform which provides interactive, in-browser Python development environments known as \"notebooks\" — to work on all lab assignments for this class. Lab notebooks will be hosted, submitted, and graded on Mimir, the website you're currently logged into. \n",
        "\n",
        "This first lab is intended to briefly acquaint you with how to submit notebook assignments on Mimir. We will go over the details of how to use Jupyter notebooks for Python development in class."
      ]
    },
    {
      "cell_type": "markdown",
      "metadata": {
        "state": "normal",
        "id": "VA36Bq6Owven"
      },
      "source": [
        "## Exercise 1\n",
        "\n",
        "Each lab notebook will contain one or more coding exercises followed by tests. Your job is to complete these exercises — adhering to any criteria given — such that they pass all the tests. Additional tests may also be run when you submit the notebook for grading. Your score is typically available immediately, and you may resubmit your work as many times as you wish (with a 5-minute cooldown period) before the deadline. \n",
        "\n",
        "To complete this simple exercise, change the body of the following function so that it returns a palindrome — a string that reads the same backwards as forwards — of your choice. The palindrome has to be at least 3 letters long!"
      ]
    },
    {
      "cell_type": "code",
      "metadata": {
        "deletable": false,
        "id": "my_palindrome",
        "starter_code": "def my_palindrome():\n    return ''",
        "state": "graded",
        "trusted": false
      },
      "source": [
        "def my_palindrome():\n",
        "    return 'malayalam'"
      ],
      "execution_count": 1,
      "outputs": []
    },
    {
      "cell_type": "markdown",
      "metadata": {
        "state": "normal",
        "id": "NpSiOzjJwveo"
      },
      "source": [
        "After completing the implementation, you can run the following test cell by selecting it and hitting `Shift-Enter` (hold down the `Shift` key and hit `Enter`). If all tests pass, you'll see no output. Otherwise, check out the error shown, fix your implementation, and run the test cell again."
      ]
    },
    {
      "cell_type": "code",
      "metadata": {
        "deletable": false,
        "editable": false,
        "id": "test",
        "state": "read_only",
        "trusted": false
      },
      "source": [
        "pal = my_palindrome()\n",
        "assert isinstance(pal, str), 'Must return a string'\n",
        "assert pal.strip(), 'String should not be empty'\n",
        "assert len(pal) >= 3, 'String should be at least 3 letters long'\n",
        "assert pal == pal[::-1], 'String is not a palindrome'"
      ],
      "execution_count": 2,
      "outputs": []
    },
    {
      "cell_type": "markdown",
      "metadata": {
        "state": "normal",
        "id": "ipb7NDvNwvep"
      },
      "source": [
        "When done, click the \"Submit Notebook\" button at the top of the screen and then on the lab title (\"Lab 00\") in the resulting popup menu. You should get a \"Submission Successful\" notification, and a link you can use to inspect your submission and the resulting score.\n",
        "\n",
        "That's it! See you in class!"
      ]
    }
  ]
}