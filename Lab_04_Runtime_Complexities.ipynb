{
  "nbformat": 4,
  "nbformat_minor": 0,
  "metadata": {
    "kernelspec": {
      "name": "python3",
      "display_name": "Python 3",
      "language": "python"
    },
    "language_info": {
      "name": "python",
      "version": "3.7.3",
      "mimetype": "text/x-python",
      "codemirror_mode": {
        "name": "ipython",
        "version": 3
      },
      "pygments_lexer": "ipython3",
      "nbconvert_exporter": "python",
      "file_extension": ".py"
    },
    "mimir": {
      "project_id": "27f6d4eb-01bf-427b-8462-4c2c95a53a21",
      "last_submission_id": "",
      "data": {}
    },
    "varInspector": {
      "window_display": false,
      "cols": {
        "lenName": 16,
        "lenType": 16,
        "lenVar": 40
      },
      "kernels_config": {
        "python": {
          "library": "var_list.py",
          "delete_cmd_prefix": "del ",
          "delete_cmd_postfix": "",
          "varRefreshCmd": "print(var_dic_list())"
        },
        "r": {
          "library": "var_list.r",
          "delete_cmd_prefix": "rm(",
          "delete_cmd_postfix": ") ",
          "varRefreshCmd": "cat(var_dic_list()) "
        }
      },
      "types_to_exclude": [
        "module",
        "function",
        "builtin_function_or_method",
        "instance",
        "_Feature"
      ]
    },
    "colab": {
      "name": "Lab 04: Runtime Complexities",
      "provenance": [],
      "collapsed_sections": [],
      "include_colab_link": true
    }
  },
  "cells": [
    {
      "cell_type": "markdown",
      "metadata": {
        "id": "view-in-github",
        "colab_type": "text"
      },
      "source": [
        "<a href=\"https://colab.research.google.com/github/mochiiten9158/CS331-machine-problems/blob/main/Lab_04_Runtime_Complexities.ipynb\" target=\"_parent\"><img src=\"https://colab.research.google.com/assets/colab-badge.svg\" alt=\"Open In Colab\"/></a>"
      ]
    },
    {
      "cell_type": "markdown",
      "metadata": {
        "state": "normal",
        "id": "QmFDbOxvEfLH"
      },
      "source": [
        "# Lab: Runtime Complexity"
      ]
    },
    {
      "cell_type": "code",
      "metadata": {
        "state": "normal",
        "trusted": true,
        "id": "FklUsEvLEfLL"
      },
      "source": [
        "# remember to evaluate this cell first!\n",
        "import matplotlib.pylab as plt\n",
        "import numpy as np\n",
        "import math\n",
        "import statistics\n",
        "import timeit\n",
        "import random\n",
        "%matplotlib inline"
      ],
      "execution_count": 1,
      "outputs": []
    },
    {
      "cell_type": "markdown",
      "metadata": {
        "state": "normal",
        "id": "k708B89BEfLN"
      },
      "source": [
        "## Overview"
      ]
    },
    {
      "cell_type": "markdown",
      "metadata": {
        "state": "normal",
        "id": "Pjyz4-DaEfLN"
      },
      "source": [
        "In this lab you will be given a number of pre-written functions and, for each function $f$, will:\n",
        "\n",
        "1. Determine its asymptotic runtime complexity; i.e., find $g$ where $f=O(g)$\n",
        "2. Evaluate and collect runtimes of $f$ over different sizes of input\n",
        "3. Plot collected runtimes along with appropriately parameterized graphs of $g$ to demonstrate tight asymptotic bounds\n",
        "\n",
        "It is possible that in step 3 you will realize the bounding function $g$ you settled on in step 1 was incorrect, in which case you will need to make adjustments.\n",
        "\n",
        "In class we covered how to use the `matplotlib` and `timeit` modules for drawing graphs and collecting timings --- be sure to revisit that material as needed!"
      ]
    },
    {
      "cell_type": "markdown",
      "metadata": {
        "state": "normal",
        "id": "G1viDwGHEfLO"
      },
      "source": [
        "## Example\n",
        "\n",
        "Here's one of the functions we analyzed in class together:"
      ]
    },
    {
      "cell_type": "code",
      "metadata": {
        "state": "normal",
        "trusted": true,
        "id": "6wVsac95EfLO"
      },
      "source": [
        "def demo(n):\n",
        "    accum = 0\n",
        "    for i in range(n):\n",
        "        accum += 1\n",
        "    return accum"
      ],
      "execution_count": 2,
      "outputs": []
    },
    {
      "cell_type": "markdown",
      "metadata": {
        "state": "normal",
        "id": "PNxixqrvEfLP"
      },
      "source": [
        "For our hypothesis, we might guess that $f = O(N)$, where $N$ is the magnitude of the integer argument.\n",
        "\n",
        "To demonstrate this, we start by gathering timings for increasing values of $N$. For some of the exercises you may need to come up with other ways of calling the functions with increasing values, as not all the functions take integer arguments like this one."
      ]
    },
    {
      "cell_type": "code",
      "metadata": {
        "state": "normal",
        "trusted": true,
        "id": "i7jHBDJgEfLP"
      },
      "source": [
        "ns = np.linspace(1, 10_000, 50, dtype=int)\n",
        "ts = [timeit.timeit('demo({})'.format(n), \n",
        "                    number=100, \n",
        "                    globals=globals()) \n",
        "      for n in ns]"
      ],
      "execution_count": 3,
      "outputs": []
    },
    {
      "cell_type": "markdown",
      "metadata": {
        "state": "normal",
        "id": "850UMtRoEfLP"
      },
      "source": [
        "And now we can plot our gathered data along with some bounding functions to help demonstrate our hypothesis. Note that we use the `statistics` module to help compute the average slope, which is used as a constant in our plots. Our bounding functions are both clearly of form $c \\cdot N$."
      ]
    },
    {
      "cell_type": "code",
      "metadata": {
        "state": "normal",
        "trusted": true,
        "colab": {
          "base_uri": "https://localhost:8080/",
          "height": 265
        },
        "id": "4HhQR0tAEfLQ",
        "outputId": "c7c0a55c-43c9-44bb-d198-db962fdce144"
      },
      "source": [
        "plt.plot(ns, ts, 'or')\n",
        "\n",
        "avg_slope = statistics.mean((ts[i+1] - ts[i]) / (ns[i+1] - ns[i]) for i in range(len(ns)-1))\n",
        "\n",
        "plt.plot(ns, [1.2*avg_slope*n for n in ns], '-b')  # blue = upper bound\n",
        "plt.plot(ns, [0.8*avg_slope*n for n in ns], '-g'); # green = lower bound"
      ],
      "execution_count": 4,
      "outputs": [
        {
          "output_type": "display_data",
          "data": {
            "image/png": "[encoded data removed]",
            "text/plain": [
              "<Figure size 432x288 with 1 Axes>"
            ]
          },
          "metadata": {
            "needs_background": "light"
          }
        }
      ]
    },
    {
      "cell_type": "markdown",
      "metadata": {
        "state": "normal",
        "id": "9ySpFcwEEfLQ"
      },
      "source": [
        "The bounding function plots help confirm (but not prove!) our hypothesis, as timings for increasing values of $N$ fall between the upper and lower bounds."
      ]
    },
    {
      "cell_type": "markdown",
      "metadata": {
        "state": "normal",
        "id": "nW5L1r5OEfLQ"
      },
      "source": [
        "## Exercises\n",
        "\n",
        "For the function provided in the first cell of each numbered exercise below, you will (1) state your hypothesized worst-case Big-O runtime complexity, (2) write code to collect timings for different sizes of input (it may take a bit of work to figure out how to come up with *worst-case* inputs!), and (3) plot the timings alongside bounding functions. As you work through an exercise, it's certainly possible that you may need to go back and revise your initial hypothesis. Note that the bounding functions must take the form $c \\cdot g$, where $c$ is a constant multipler and $g$ is your stated runtime complexity. E.g., for a $O(N^2)$ function, your bounding functions will be of the form $c \\cdot N^2$."
      ]
    },
    {
      "cell_type": "markdown",
      "metadata": {
        "state": "normal",
        "id": "tVXb11bhEfLR"
      },
      "source": [
        "Each exercise already includes three cells beneath the provided function; simply fill them in with your own data. You are alotted a total of 30 seconds for all cells in the notebook to be evaluated, so you also need to be clever about collecting timings.\n",
        "\n",
        "For each exercise, parts (1), (2), and (3) and worth 2 points each, giving a maximum score of 30 points for this lab.\n",
        "\n",
        "---"
      ]
    },
    {
      "cell_type": "markdown",
      "metadata": {
        "state": "normal",
        "id": "2AOun9dGEfLS"
      },
      "source": [
        "## Exercise 1"
      ]
    },
    {
      "cell_type": "code",
      "metadata": {
        "deletable": false,
        "editable": false,
        "id": "red_boi",
        "state": "read_only",
        "trusted": true
      },
      "source": [
        "def f1(lst):\n",
        "    r = 0\n",
        "    n = 100\n",
        "    if len(lst) < n:\n",
        "        n = len(lst)\n",
        "    for x in range(n):\n",
        "        r += x"
      ],
      "execution_count": 5,
      "outputs": []
    },
    {
      "cell_type": "markdown",
      "metadata": {
        "state": "normal",
        "id": "Bg-1e6aeEfLT"
      },
      "source": [
        "### Part 1\n",
        "\n",
        "Hypothesis: $f_1 = O(1)$ &larr; fill in your hypothesis here"
      ]
    },
    {
      "cell_type": "markdown",
      "metadata": {
        "state": "normal",
        "id": "x06aDHRHEfLU"
      },
      "source": [
        "### Part 2"
      ]
    },
    {
      "cell_type": "code",
      "metadata": {
        "deletable": false,
        "id": "able_vali",
        "starter_code": "# collect timing data into arrays/lists here\nns = []\nts = []",
        "state": "graded",
        "trusted": true
      },
      "source": [
        "# collect timing data into arrays/lists here\n",
        "ns = np.linspace(1, 100_000, 50, dtype=int)\n",
        "ts = [timeit.timeit('f1(lst)',\n",
        "                    setup=f'lst=list(range({n}))',\n",
        "                    number=100, \n",
        "                    globals=globals()) \n",
        "      for n in ns]"
      ],
      "execution_count": 6,
      "outputs": []
    },
    {
      "cell_type": "markdown",
      "metadata": {
        "state": "normal",
        "id": "fIzSH9fqEfLU"
      },
      "source": [
        "### Part 3"
      ]
    },
    {
      "cell_type": "code",
      "metadata": {
        "deletable": false,
        "id": "blue_mimir",
        "starter_code": "# plot your data and bounding functions here\nplt.plot(ns, ts, 'or')\nplt.plot(ns, [], '-g')\nplt.plot(ns, [], '-b');",
        "state": "graded",
        "trusted": true,
        "colab": {
          "base_uri": "https://localhost:8080/",
          "height": 265
        },
        "outputId": "ce1ec471-eebc-49d0-f536-96399e98701e"
      },
      "source": [
        "# plot your data and bounding functions here\n",
        "plt.plot(ns, ts, 'or')\n",
        "plt.plot(ns, [0.00035 for n in ns], '-g')\n",
        "plt.plot(ns, [0.0007 for n in ns], '-b');"
      ],
      "execution_count": 7,
      "outputs": [
        {
          "output_type": "display_data",
          "data": {
            "image/png": "[encoded data removed]",
            "text/plain": [
              "<Figure size 432x288 with 1 Axes>"
            ]
          },
          "metadata": {
            "needs_background": "light"
          }
        }
      ]
    },
    {
      "cell_type": "markdown",
      "metadata": {
        "state": "normal",
        "id": "qCkwD5xqEfLV"
      },
      "source": [
        "---"
      ]
    },
    {
      "cell_type": "markdown",
      "metadata": {
        "state": "normal",
        "id": "pYWM7phlEfLW"
      },
      "source": [
        "## Exercise 2"
      ]
    },
    {
      "cell_type": "code",
      "metadata": {
        "deletable": false,
        "editable": false,
        "id": "fit_vali",
        "state": "read_only",
        "trusted": true
      },
      "source": [
        "def f2(x):\n",
        "    r = x / 2\n",
        "    d = 1e-10\n",
        "    while abs(x - r**2) > d:\n",
        "        r = (r + x/r) / 2\n",
        "    return r"
      ],
      "execution_count": 8,
      "outputs": []
    },
    {
      "cell_type": "markdown",
      "metadata": {
        "state": "normal",
        "id": "N4M7G5HAEfLX"
      },
      "source": [
        "### Part 1\n",
        "\n",
        "Hypothesis: $f_2 = O(logN)$ &larr; fill in your hypothesis here"
      ]
    },
    {
      "cell_type": "markdown",
      "metadata": {
        "state": "normal",
        "id": "dpzgfOQoEfLY"
      },
      "source": [
        "### Part 2"
      ]
    },
    {
      "cell_type": "code",
      "metadata": {
        "deletable": false,
        "id": "calm_vali",
        "starter_code": "# collect timing data into arrays/lists here\nns = []\nts = []",
        "state": "graded",
        "trusted": true
      },
      "source": [
        "# collect timing data into arrays/lists here\n",
        "ns = np.linspace(1, 100, 25, dtype=int)\n",
        "ts = [timeit.timeit('f2({})'.format(x),\n",
        "                    number=45,\n",
        "                    globals=globals())\n",
        "      for x in ns]"
      ],
      "execution_count": 9,
      "outputs": []
    },
    {
      "cell_type": "markdown",
      "metadata": {
        "state": "normal",
        "id": "5rsxKpuqEfLZ"
      },
      "source": [
        "### Part 3"
      ]
    },
    {
      "cell_type": "code",
      "metadata": {
        "deletable": false,
        "id": "calm_mimir",
        "starter_code": "# plot your data and bounding functions here\nplt.plot(ns, ts, 'or')\nplt.plot(ns, [], '-g')\nplt.plot(ns, [], '-b');",
        "state": "graded",
        "trusted": true,
        "colab": {
          "base_uri": "https://localhost:8080/",
          "height": 282
        },
        "outputId": "36f56bda-70fb-46e7-eeb1-f8e9f39c5bdf"
      },
      "source": [
        "# plot your data and bounding functions here\n",
        "plt.plot(ns, ts, 'or')\n",
        "avg_slope = statistics.mean((ts[i+1] - ts[i]) / (ns[i+1] - ns[i]) for i in range(len(ns)-1))\n",
        "plt.plot(ns, [0.000018*math.log(x) for x in ns], '-g')\n",
        "plt.plot(ns, [0.000043*math.log(x) for x in ns], '-b')"
      ],
      "execution_count": 10,
      "outputs": [
        {
          "output_type": "execute_result",
          "data": {
            "text/plain": [
              "[<matplotlib.lines.Line2D at 0x7f3a6a5f6e90>]"
            ]
          },
          "metadata": {},
          "execution_count": 10
        },
        {
          "output_type": "display_data",
          "data": {
            "image/png": "[encoded data removed]",
            "text/plain": [
              "<Figure size 432x288 with 1 Axes>"
            ]
          },
          "metadata": {
            "needs_background": "light"
          }
        }
      ]
    },
    {
      "cell_type": "markdown",
      "metadata": {
        "state": "normal",
        "id": "EdkL1B6HEfLZ"
      },
      "source": [
        "---"
      ]
    },
    {
      "cell_type": "markdown",
      "metadata": {
        "state": "normal",
        "id": "gFO4J0r0EfLZ"
      },
      "source": [
        "## Exercise 3"
      ]
    },
    {
      "cell_type": "code",
      "metadata": {
        "deletable": false,
        "editable": false,
        "id": "fit_tyr",
        "state": "read_only",
        "trusted": true
      },
      "source": [
        "def f3(lst):\n",
        "    while True:\n",
        "        swapped = False\n",
        "        for i in range(len(lst)-1):\n",
        "            if lst[i] > lst[i+1]:\n",
        "                lst[i], lst[i+1] = lst[i+1], lst[i]\n",
        "                swapped = True\n",
        "        if not swapped:\n",
        "            break"
      ],
      "execution_count": 11,
      "outputs": []
    },
    {
      "cell_type": "markdown",
      "metadata": {
        "state": "normal",
        "id": "avjilTlkEfLa"
      },
      "source": [
        "### Part 1\n",
        "\n",
        "Hypothesis: $f_3 = O(N^2)$ &larr; fill in your hypothesis here"
      ]
    },
    {
      "cell_type": "markdown",
      "metadata": {
        "state": "normal",
        "id": "26C3BlrYEfLa"
      },
      "source": [
        "### Part 2"
      ]
    },
    {
      "cell_type": "code",
      "metadata": {
        "deletable": false,
        "id": "spicy_nott",
        "starter_code": "# collect timing data into arrays/lists here\nns = []\nts = []",
        "state": "graded",
        "trusted": true
      },
      "source": [
        "# collect timing data into arrays/lists here\n",
        "ns = np.linspace(1, 1000, 50, dtype=int)\n",
        "ts = [timeit.timeit('f3(lst)',\n",
        "                    setup=f'lst=list(reversed(range({n})))',\n",
        "                    number=100, \n",
        "                    globals=globals()) \n",
        "      for n in ns]"
      ],
      "execution_count": 12,
      "outputs": []
    },
    {
      "cell_type": "markdown",
      "metadata": {
        "state": "normal",
        "id": "jWECNxYnEfLb"
      },
      "source": [
        "### Part 3"
      ]
    },
    {
      "cell_type": "code",
      "metadata": {
        "deletable": false,
        "id": "high_tyr",
        "starter_code": "# plot your data and bounding functions here\nplt.plot(ns, ts, 'or')\nplt.plot(ns, [], '-g')\nplt.plot(ns, [], '-b');",
        "state": "graded",
        "trusted": true,
        "colab": {
          "base_uri": "https://localhost:8080/",
          "height": 282
        },
        "outputId": "0d8c0cb5-9fb1-476f-d687-5bc0565a8565"
      },
      "source": [
        "# plot your data and bounding functions here\n",
        "plt.plot(ns, ts, 'or')\n",
        "\n",
        "c = np.polyfit(ns, ts, 2, rcond=None, full=False, w=None, cov=False)\n",
        "print(c)\n",
        "p = np.poly1d(c)\n",
        "\n",
        "plt.plot(ns, [1.4*p(n) for n in ns], '-b');\n",
        "plt.plot(ns, [0.7*p(n) for n in ns], '-g');"
      ],
      "execution_count": 13,
      "outputs": [
        {
          "output_type": "stream",
          "name": "stdout",
          "text": [
            "[2.24445067e-07 4.14318894e-06 2.73922599e-04]\n"
          ]
        },
        {
          "output_type": "display_data",
          "data": {
            "image/png": "[encoded data removed]",
            "text/plain": [
              "<Figure size 432x288 with 1 Axes>"
            ]
          },
          "metadata": {
            "needs_background": "light"
          }
        }
      ]
    },
    {
      "cell_type": "markdown",
      "metadata": {
        "state": "normal",
        "id": "vaIG0-oKEfLb"
      },
      "source": [
        "---"
      ]
    },
    {
      "cell_type": "markdown",
      "metadata": {
        "state": "normal",
        "id": "XPdgv0heEfLc"
      },
      "source": [
        "## Exercise 4"
      ]
    },
    {
      "cell_type": "code",
      "metadata": {
        "deletable": false,
        "editable": false,
        "id": "calm_ran",
        "state": "read_only",
        "trusted": true
      },
      "source": [
        "def f4(n):\n",
        "    counters = [0] * n\n",
        "    while not all(counters):\n",
        "        for i in range(n):\n",
        "            if counters[i]:\n",
        "                counters[i] = 0\n",
        "            else:\n",
        "                counters[i] = 1\n",
        "                break"
      ],
      "execution_count": 14,
      "outputs": []
    },
    {
      "cell_type": "markdown",
      "metadata": {
        "state": "normal",
        "id": "Rltv__kKEfLd"
      },
      "source": [
        "### Part 1\n",
        "\n",
        "Hypothesis: $f_4 = O(2^N)$ &larr; fill in your hypothesis here"
      ]
    },
    {
      "cell_type": "markdown",
      "metadata": {
        "state": "normal",
        "id": "KVrQnURIEfLd"
      },
      "source": [
        "### Part 2"
      ]
    },
    {
      "cell_type": "code",
      "metadata": {
        "deletable": false,
        "id": "eager_saga",
        "starter_code": "# collect timing data into arrays/lists here\nns = []\nts = []",
        "state": "graded",
        "trusted": true
      },
      "source": [
        "# collect timing data into arrays/lists here\n",
        "ns = np.linspace(2, 20, 30, dtype=int)\n",
        "ts = [timeit.timeit('f4({})'.format(n),\n",
        "                    number=5,\n",
        "                    globals=globals())\n",
        "      for n in ns]"
      ],
      "execution_count": 21,
      "outputs": []
    },
    {
      "cell_type": "markdown",
      "metadata": {
        "state": "normal",
        "id": "C-Iebfy4EfLe"
      },
      "source": [
        "### Part 3"
      ]
    },
    {
      "cell_type": "code",
      "metadata": {
        "deletable": false,
        "id": "sharp_thor",
        "starter_code": "# plot your data and bounding functions here\nplt.plot(ns, ts, 'or')\nplt.plot(ns, [], '-g')\nplt.plot(ns, [], '-b');",
        "state": "graded",
        "trusted": true,
        "colab": {
          "base_uri": "https://localhost:8080/",
          "height": 265
        },
        "outputId": "56d1efec-b8c0-405f-c6ed-c8f573b1bd71"
      },
      "source": [
        "# plot your data and bounding functions here\n",
        "plt.plot(ns, ts, 'or')\n",
        "\n",
        "plt.plot(ns, [0.0000052*math.pow(2,n) for n in ns], '-b')\n",
        "plt.plot(ns, [0.0000017*math.pow(2,n) for n in ns], '-g');"
      ],
      "execution_count": 22,
      "outputs": [
        {
          "output_type": "display_data",
          "data": {
            "image/png": "[encoded data removed]",
            "text/plain": [
              "<Figure size 432x288 with 1 Axes>"
            ]
          },
          "metadata": {
            "needs_background": "light"
          }
        }
      ]
    },
    {
      "cell_type": "markdown",
      "metadata": {
        "state": "normal",
        "id": "XkaCGNGxEfLf"
      },
      "source": [
        "---"
      ]
    },
    {
      "cell_type": "markdown",
      "metadata": {
        "state": "normal",
        "id": "vX4oJCLvEfLf"
      },
      "source": [
        "## Exercise 5"
      ]
    },
    {
      "cell_type": "code",
      "metadata": {
        "deletable": false,
        "editable": false,
        "id": "sly_loki",
        "state": "read_only",
        "trusted": true
      },
      "source": [
        "def f5(lst):\n",
        "    n = len(lst)\n",
        "    for i in range(n*100):\n",
        "        a = random.randrange(n)\n",
        "        b = random.randrange(n)\n",
        "        lst[a], lst[b] = lst[b], lst[a]"
      ],
      "execution_count": 17,
      "outputs": []
    },
    {
      "cell_type": "markdown",
      "metadata": {
        "state": "normal",
        "id": "gqT6_191EfLf"
      },
      "source": [
        "### Part 1\n",
        "\n",
        "Hypothesis: $f_5 = O(N)$ &larr; fill in your hypothesis here"
      ]
    },
    {
      "cell_type": "markdown",
      "metadata": {
        "state": "normal",
        "id": "XhSmCU6MEfLg"
      },
      "source": [
        "### Part 2"
      ]
    },
    {
      "cell_type": "code",
      "metadata": {
        "deletable": false,
        "id": "apt_hel",
        "starter_code": "# collect timing data into arrays/lists here\nns = []\nts = []",
        "state": "graded",
        "trusted": true
      },
      "source": [
        "# collect timing data into arrays/lists here\n",
        "ns = np.linspace(0, 1000, 50, dtype=int)\n",
        "ts = [timeit.timeit('f5(lst)',\n",
        "                    setup=f'lst=list(range({n}))',\n",
        "                    number=30, \n",
        "                    globals=globals()) \n",
        "      for n in ns]"
      ],
      "execution_count": 18,
      "outputs": []
    },
    {
      "cell_type": "markdown",
      "metadata": {
        "state": "normal",
        "id": "WuBAat0MEfLg"
      },
      "source": [
        "### Part 3"
      ]
    },
    {
      "cell_type": "code",
      "metadata": {
        "deletable": false,
        "id": "sharp_sol",
        "starter_code": "# plot your data and bounding functions here\nplt.plot(ns, ts, 'or')\nplt.plot(ns, [], '-g')\nplt.plot(ns, [], '-b');",
        "state": "graded",
        "trusted": true,
        "colab": {
          "base_uri": "https://localhost:8080/",
          "height": 265
        },
        "outputId": "13170145-8d3e-441c-d6da-64745d3b22ea"
      },
      "source": [
        "# plot your data and bounding functions here\n",
        "plt.plot(ns, ts, 'or')\n",
        "avg_slope = statistics.mean((ts[i+1] - ts[i]) / (ns[i+1] - ns[i]) for i in range(len(ns)-1))\n",
        "plt.plot(ns, [0.75*avg_slope*n for n in ns], '-g')\n",
        "plt.plot(ns, [1.2*avg_slope*n for n in ns], '-b');"
      ],
      "execution_count": 19,
      "outputs": [
        {
          "output_type": "display_data",
          "data": {
            "image/png": "[encoded data removed]",
            "text/plain": [
              "<Figure size 432x288 with 1 Axes>"
            ]
          },
          "metadata": {
            "needs_background": "light"
          }
        }
      ]
    }
  ]
}