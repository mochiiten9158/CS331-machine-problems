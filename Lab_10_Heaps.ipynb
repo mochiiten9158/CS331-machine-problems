{
  "nbformat": 4,
  "nbformat_minor": 0,
  "metadata": {
    "kernelspec": {
      "name": "python3",
      "display_name": "Python 3",
      "language": "python"
    },
    "language_info": {
      "name": "python",
      "version": "3.7.3",
      "mimetype": "text/x-python",
      "codemirror_mode": {
        "name": "ipython",
        "version": 3
      },
      "pygments_lexer": "ipython3",
      "nbconvert_exporter": "python",
      "file_extension": ".py"
    },
    "mimir": {
      "project_id": "3eff116b-b38d-49e9-be89-37af853aac5d",
      "last_submission_id": "",
      "data": {}
    },
    "varInspector": {
      "window_display": false,
      "cols": {
        "lenName": 16,
        "lenType": 16,
        "lenVar": 40
      },
      "kernels_config": {
        "python": {
          "library": "var_list.py",
          "delete_cmd_prefix": "del ",
          "delete_cmd_postfix": "",
          "varRefreshCmd": "print(var_dic_list())"
        },
        "r": {
          "library": "var_list.r",
          "delete_cmd_prefix": "rm(",
          "delete_cmd_postfix": ") ",
          "varRefreshCmd": "cat(var_dic_list()) "
        }
      },
      "types_to_exclude": [
        "module",
        "function",
        "builtin_function_or_method",
        "instance",
        "_Feature"
      ]
    },
    "colab": {
      "name": "Lab 10 : Heaps",
      "provenance": [],
      "include_colab_link": true
    }
  },
  "cells": [
    {
      "cell_type": "markdown",
      "metadata": {
        "id": "view-in-github",
        "colab_type": "text"
      },
      "source": [
        "<a href=\"https://colab.research.google.com/github/mochiiten9158/CS331-machine-problems/blob/main/Lab_10_Heaps.ipynb\" target=\"_parent\"><img src=\"https://colab.research.google.com/assets/colab-badge.svg\" alt=\"Open In Colab\"/></a>"
      ]
    },
    {
      "cell_type": "markdown",
      "metadata": {
        "state": "normal",
        "id": "PDpzohfcYA1-"
      },
      "source": [
        "# Lab 10 : Heaps"
      ]
    },
    {
      "cell_type": "markdown",
      "metadata": {
        "state": "normal",
        "id": "OoYQZ32KYA2J"
      },
      "source": [
        "## Overview\n",
        "\n",
        "For this assignment you will start by modifying the heap data stucture implemented in class to allow it to keep its elements sorted by an arbitrary priority (identified by a `key` function), then use the augmented heap to efficiently compute the running median of a set of numbers."
      ]
    },
    {
      "cell_type": "markdown",
      "metadata": {
        "state": "normal",
        "id": "Nm4K1MJCYA2K"
      },
      "source": [
        "## 1. Augmenting the Heap with a `key` function\n",
        "\n",
        "The heap implementation covered in class is for a so-called \"max-heap\" — i.e., one where elements are organized such that the one with the maximum value can be efficiently extracted.\n",
        "\n",
        "This limits our usage of the data structure, however. Our heap can currently only accommodate elements that have a natural ordering (i.e., they can be compared using the '`>`' and '`<`' operators as used in the implementation), and there's no way to order elements based on some partial or computed property.\n",
        "\n",
        "To make our heap more flexible, you'll update it to allow a `key` function to be passed to its initializer. This function will be used to extract a value from each element added to the heap; these values, in turn, will be used to order the elements. \n",
        "\n",
        "We can now easily create heaps with different semantics, e.g.,\n",
        "\n",
        "- `Heap(len)` will prioritize elements based on their length (e.g., applicable to strings, sequences, etc.)\n",
        "- `Heap(lambda x: -x)` can function as a *min-heap* for numbers\n",
        "- `Heap(lambda x: x.prop)` will prioritize elements based on their `prop` attribute\n",
        "\n",
        "If no `key` function is provided, the default max-heap behavior should be used — the \"`lambda x:x`\" default value for the `__init__` method does just that. \n",
        "\n",
        "You will, at the very least, need to update the `_heapify` and `add` methods, below, to complete this assignment. (Note, also, that `pop_max` has been renamed `pop`, while `max` has been renamed `peek`, to reflect their more general nature.)"
      ]
    },
    {
      "cell_type": "code",
      "metadata": {
        "collapsed": true,
        "nbgrader": {
          "grade": false,
          "grade_id": "heap",
          "locked": false,
          "schema_version": 1,
          "solution": true
        },
        "id": "heap",
        "state": "graded",
        "deletable": false,
        "starter_code": "class Heap:\n    def __init__(self, key=lambda x:x):\n        self.data = []\n        self.key  = key\n\n    @staticmethod\n    def _parent(idx):\n        return (idx-1)//2\n        \n    @staticmethod\n    def _left(idx):\n        return idx*2+1\n\n    @staticmethod\n    def _right(idx):\n        return idx*2+2\n    \n    def heapify(self, idx=0):\n        pass\n            \n    def add(self, x):\n        pass\n        \n    def peek(self):\n        return self.data[0]\n\n    def pop(self):\n        ret = self.data[0]\n        self.data[0] = self.data[len(self.data)-1]\n        del self.data[len(self.data)-1]\n        self.heapify()\n        return ret\n    \n    def __bool__(self):\n        return len(self.data) > 0\n\n    def __len__(self):\n        return len(self.data)\n\n    def __repr__(self):\n        return repr(self.data)",
        "trusted": false
      },
      "source": [
        "class Heap:\n",
        "    def __init__(self, key=lambda x:x):\n",
        "        self.data = []\n",
        "        self.key  = key\n",
        "\n",
        "    @staticmethod\n",
        "    def _parent(idx):\n",
        "        return (idx-1)//2\n",
        "        \n",
        "    @staticmethod\n",
        "    def _left(idx):\n",
        "        return idx*2+1\n",
        "\n",
        "    @staticmethod\n",
        "    def _right(idx):\n",
        "        return idx*2+2\n",
        "    \n",
        "    def heapify(self, idx=0):\n",
        "        while idx < len(self):\n",
        "          lidx = Heap._left(idx)\n",
        "          ridx = Heap._right(idx)\n",
        "          maxidx = idx\n",
        "          if lidx < len(self) and self.key(self.data[lidx]) > self.key(self.data[maxidx]):\n",
        "            maxidx = lidx\n",
        "          if ridx < len(self) and self.key(self.data[ridx]) > self.key(self.data[maxidx]):\n",
        "            maxidx = ridx\n",
        "          if maxidx != idx:\n",
        "            self.data[idx], self.data[maxidx] = self.data[maxidx], self.data[idx]\n",
        "            idx = maxidx\n",
        "          else:\n",
        "            break\n",
        "\n",
        "    def add(self, x):\n",
        "        self.data.append(x)\n",
        "\n",
        "        # bubble up (O(log n))\n",
        "        idx = len(self.data)-1\n",
        "        while idx > 0 :\n",
        "            pidx = Heap._parent(idx)\n",
        "            if self.key(self.data[idx]) > self.key(self.data[pidx]):\n",
        "                self.data[idx], self.data[pidx] = self.data[pidx], self.data[idx]\n",
        "                idx = pidx\n",
        "            else:\n",
        "                break\n",
        "\n",
        "    def peek(self):\n",
        "        return self.data[0]\n",
        "\n",
        "    def pop(self):\n",
        "        ret = self.data[0]\n",
        "        self.data[0] = self.data[len(self.data)-1]\n",
        "        del self.data[len(self.data)-1]\n",
        "        self.heapify()\n",
        "        return ret\n",
        "    \n",
        "    def __bool__(self):\n",
        "        return len(self.data) > 0\n",
        "\n",
        "    def __len__(self):\n",
        "        return len(self.data)\n",
        "\n",
        "    def __repr__(self):\n",
        "        return repr(self.data)"
      ],
      "execution_count": 1,
      "outputs": []
    },
    {
      "cell_type": "code",
      "metadata": {
        "collapsed": true,
        "nbgrader": {
          "grade": true,
          "grade_id": "heap_test_1",
          "locked": true,
          "points": 1,
          "schema_version": 1,
          "solution": false
        },
        "id": "heap_test_1",
        "state": "read_only",
        "editable": false,
        "deletable": false,
        "trusted": false
      },
      "source": [
        "# (1 point)\n",
        "\n",
        "from unittest import TestCase\n",
        "import random\n",
        "\n",
        "tc = TestCase()\n",
        "h = Heap()\n",
        "\n",
        "random.seed(0)\n",
        "for _ in range(10):\n",
        "    h.add(random.randrange(100))\n",
        "\n",
        "tc.assertEqual(h.data, [97, 61, 65, 49, 51, 53, 62, 5, 38, 33])"
      ],
      "execution_count": 2,
      "outputs": []
    },
    {
      "cell_type": "code",
      "metadata": {
        "collapsed": true,
        "nbgrader": {
          "grade": true,
          "grade_id": "heap_test_2",
          "locked": true,
          "points": 1,
          "schema_version": 1,
          "solution": false
        },
        "id": "heap_test_2",
        "state": "read_only",
        "editable": false,
        "deletable": false,
        "trusted": false
      },
      "source": [
        "# (1 point)\n",
        "\n",
        "from unittest import TestCase\n",
        "import random\n",
        "\n",
        "tc = TestCase()\n",
        "h = Heap(lambda x:-x)\n",
        "\n",
        "random.seed(0)\n",
        "for _ in range(10):\n",
        "    h.add(random.randrange(100))\n",
        "\n",
        "tc.assertEqual(h.data, [5, 33, 53, 38, 49, 65, 62, 97, 51, 61])"
      ],
      "execution_count": 3,
      "outputs": []
    },
    {
      "cell_type": "code",
      "metadata": {
        "collapsed": true,
        "nbgrader": {
          "grade": true,
          "grade_id": "heap_test_3",
          "locked": true,
          "points": 2,
          "schema_version": 1,
          "solution": false
        },
        "id": "heap_test_3",
        "state": "read_only",
        "editable": false,
        "deletable": false,
        "trusted": false
      },
      "source": [
        "# (2 points)\n",
        "\n",
        "from unittest import TestCase\n",
        "import random\n",
        "\n",
        "tc = TestCase()\n",
        "h = Heap(lambda s:len(s))\n",
        "\n",
        "h.add('hello')\n",
        "h.add('hi')\n",
        "h.add('abracadabra')\n",
        "h.add('supercalifragilisticexpialidocious')\n",
        "h.add('0')\n",
        "\n",
        "tc.assertEqual(h.data,\n",
        "              ['supercalifragilisticexpialidocious', 'abracadabra', 'hello', 'hi', '0'])"
      ],
      "execution_count": 4,
      "outputs": []
    },
    {
      "cell_type": "code",
      "metadata": {
        "collapsed": true,
        "nbgrader": {
          "grade": true,
          "grade_id": "heap_test_4",
          "locked": true,
          "points": 2,
          "schema_version": 1,
          "solution": false
        },
        "id": "heap_test_4",
        "state": "read_only",
        "editable": false,
        "deletable": false,
        "trusted": false
      },
      "source": [
        "# (2 points)\n",
        "\n",
        "from unittest import TestCase\n",
        "import random\n",
        "\n",
        "tc = TestCase()\n",
        "h = Heap()\n",
        "\n",
        "random.seed(0)\n",
        "lst = list(range(-1000, 1000))\n",
        "random.shuffle(lst)\n",
        "\n",
        "for x in lst:\n",
        "    h.add(x)\n",
        "\n",
        "for x in range(999, -1000, -1):\n",
        "    tc.assertEqual(x, h.pop())"
      ],
      "execution_count": 5,
      "outputs": []
    },
    {
      "cell_type": "code",
      "metadata": {
        "collapsed": true,
        "nbgrader": {
          "grade": true,
          "grade_id": "heap_test_5",
          "locked": true,
          "points": 2,
          "schema_version": 1,
          "solution": false
        },
        "id": "heap_test_5",
        "state": "read_only",
        "editable": false,
        "deletable": false,
        "trusted": false
      },
      "source": [
        "# (2 points)\n",
        "\n",
        "from unittest import TestCase\n",
        "import random\n",
        "\n",
        "tc = TestCase()\n",
        "h = Heap(key=lambda x:abs(x))\n",
        "\n",
        "random.seed(0)\n",
        "lst = list(range(-1000, 1000, 3))\n",
        "random.shuffle(lst)\n",
        "\n",
        "for x in lst:\n",
        "    h.add(x)\n",
        "\n",
        "for x in reversed(sorted(range(-1000, 1000, 3), key=lambda x:abs(x))):\n",
        "    tc.assertEqual(x, h.pop())"
      ],
      "execution_count": 6,
      "outputs": []
    },
    {
      "cell_type": "markdown",
      "metadata": {
        "state": "normal",
        "id": "42riVTQ4YA2b"
      },
      "source": [
        "## 2. Computing the Running Median\n",
        "\n",
        "The median of a series of numbers is simply the middle term if ordered by magnitude, or, if there is no middle term, the average of the two middle terms. E.g., the median of the series [3, 1, 9, 25, 12] is **9**, and the median of the series [8, 4, 11, 18] is **9.5**.\n",
        "\n",
        "If we are in the process of accumulating numerical data, it is useful to be able to compute the *running median* — where, as each new data point is encountered, an updated median is computed. This should be done, of course, as efficiently as possible.\n",
        "\n",
        "The following function demonstrates a naive way of computing the running medians based on the series passed in as an iterable."
      ]
    },
    {
      "cell_type": "code",
      "metadata": {
        "collapsed": true,
        "state": "read_only",
        "editable": false,
        "deletable": false,
        "id": "running_medians_naive",
        "trusted": false
      },
      "source": [
        "def running_medians_naive(iterable):\n",
        "    values = []\n",
        "    medians = []\n",
        "    for i, x in enumerate(iterable):\n",
        "        values.append(x)\n",
        "        values.sort()\n",
        "        if i%2 == 0:\n",
        "            medians.append(values[i//2])\n",
        "        else:\n",
        "            medians.append((values[i//2] + values[i//2+1]) / 2)\n",
        "    return medians"
      ],
      "execution_count": 7,
      "outputs": []
    },
    {
      "cell_type": "code",
      "metadata": {
        "collapsed": true,
        "state": "normal",
        "trusted": false,
        "colab": {
          "base_uri": "https://localhost:8080/"
        },
        "id": "u2P7x1wRYA2c",
        "outputId": "008869e5-6926-4f9f-afb7-125c62cab3d2"
      },
      "source": [
        "running_medians_naive([3, 1, 9, 25, 12])"
      ],
      "execution_count": 8,
      "outputs": [
        {
          "output_type": "execute_result",
          "data": {
            "text/plain": [
              "[3, 2.0, 3, 6.0, 9]"
            ]
          },
          "metadata": {},
          "execution_count": 8
        }
      ]
    },
    {
      "cell_type": "code",
      "metadata": {
        "collapsed": true,
        "state": "normal",
        "trusted": false,
        "colab": {
          "base_uri": "https://localhost:8080/"
        },
        "id": "ntt2I5TNYA2d",
        "outputId": "05b2b24d-f145-48c1-9cde-79d3ba72121e"
      },
      "source": [
        "running_medians_naive([8, 4, 11, 18])"
      ],
      "execution_count": 9,
      "outputs": [
        {
          "output_type": "execute_result",
          "data": {
            "text/plain": [
              "[8, 6.0, 8, 9.5]"
            ]
          },
          "metadata": {},
          "execution_count": 9
        }
      ]
    },
    {
      "cell_type": "markdown",
      "metadata": {
        "state": "normal",
        "id": "eXP-7cNQYA2e"
      },
      "source": [
        "Note that the function keeps track of all the values encountered during the iteration and uses them to compute the running medians, which are returned at the end as a list. The final running median, naturally, is simply the median of the entire series.\n",
        "\n",
        "Unfortunately, because the function sorts the list of values during every iteration it is incredibly inefficient. Your job is to implement a version that computes each running median in O(log N) time using, of course, the heap data structure!\n",
        "\n",
        "### Hints\n",
        "\n",
        "- You will need to use two heaps for your solution: one min-heap, and one max-heap. \n",
        "- The min-heap should be used to keep track of all values *greater than* the most recent running median, and the max-heap for all values *less than* the most recent running median — this way, the median will lie between the minimum value on the min-heap and the maximum value on the max-heap (both of which can be efficiently extracted)\n",
        "- In addition, the difference between the number of values stored in the min-heap and max-heap must never exceed 1 (to ensure the median is being computed). This can be taken care of by intelligently `pop`-ping/`add`-ing elements between the two heaps."
      ]
    },
    {
      "cell_type": "code",
      "metadata": {
        "collapsed": true,
        "nbgrader": {
          "grade": false,
          "grade_id": "running_median",
          "locked": false,
          "schema_version": 1,
          "solution": true
        },
        "id": "running_median",
        "state": "graded",
        "deletable": false,
        "starter_code": "def running_medians(iterable):\n    pass",
        "trusted": false
      },
      "source": [
        "def running_medians(iterable):\n",
        "    median = 0\n",
        "    m = []\n",
        "    minHeap = Heap(key = lambda x:-x)\n",
        "    maxHeap = Heap(key = lambda x:x)\n",
        "    m.append(iterable[0])\n",
        "    minHeap.add(m[0])\n",
        "    for x in iterable[1:]:\n",
        "      if x > m[-1]:\n",
        "        minHeap.add(x)\n",
        "      else:\n",
        "        maxHeap.add(x)\n",
        "      if len(minHeap) - len(maxHeap) > 1:\n",
        "        maxHeap.add(minHeap.pop())\n",
        "      elif len(maxHeap) - len(minHeap) > 1:\n",
        "        minHeap.add(maxHeap.pop())\n",
        "      if len(minHeap) == len(maxHeap):\n",
        "        median = (minHeap.peek() + maxHeap.peek()) / 2\n",
        "        m.append(median)\n",
        "      elif len(minHeap) > len(maxHeap):\n",
        "        median = minHeap.peek()\n",
        "        m.append(median)\n",
        "      elif len(minHeap) < len(maxHeap):\n",
        "        median = maxHeap.peek()\n",
        "        m.append(median)\n",
        "    return m "
      ],
      "execution_count": 10,
      "outputs": []
    },
    {
      "cell_type": "code",
      "metadata": {
        "collapsed": true,
        "nbgrader": {
          "grade": true,
          "grade_id": "running_median_1",
          "locked": true,
          "points": 2,
          "schema_version": 1,
          "solution": false
        },
        "id": "running_median_1",
        "state": "read_only",
        "editable": false,
        "deletable": false,
        "trusted": false
      },
      "source": [
        "# (2 points)\n",
        "\n",
        "from unittest import TestCase\n",
        "tc = TestCase()\n",
        "tc.assertEqual([3, 2.0, 3, 6.0, 9], running_medians([3, 1, 9, 25, 12]))\n"
      ],
      "execution_count": 11,
      "outputs": []
    },
    {
      "cell_type": "code",
      "metadata": {
        "collapsed": true,
        "nbgrader": {
          "grade": true,
          "grade_id": "running_median_2",
          "locked": true,
          "points": 2,
          "schema_version": 1,
          "solution": false
        },
        "id": "running_median_2",
        "state": "read_only",
        "editable": false,
        "deletable": false,
        "trusted": false
      },
      "source": [
        "# (2 points)\n",
        "\n",
        "import random\n",
        "from unittest import TestCase\n",
        "tc = TestCase()\n",
        "vals = [random.randrange(10000) for _ in range(1000)]\n",
        "tc.assertEqual(running_medians_naive(vals), running_medians(vals))"
      ],
      "execution_count": 12,
      "outputs": []
    },
    {
      "cell_type": "code",
      "metadata": {
        "collapsed": true,
        "nbgrader": {
          "grade": true,
          "grade_id": "running_median_3",
          "locked": true,
          "points": 4,
          "schema_version": 1,
          "solution": false
        },
        "id": "running_median_3",
        "state": "read_only",
        "editable": false,
        "deletable": false,
        "trusted": false
      },
      "source": [
        "# (4 points) MUST COMPLETE IN UNDER 10 seconds!\n",
        "\n",
        "import random\n",
        "from unittest import TestCase\n",
        "tc = TestCase()\n",
        "vals = [random.randrange(100000) for _ in range(100001)]\n",
        "m_mid   = sorted(vals[:50001])[50001//2]\n",
        "m_final = sorted(vals)[len(vals)//2]\n",
        "running = running_medians(vals)\n",
        "tc.assertEqual(m_mid, running[50000])\n",
        "tc.assertEqual(m_final, running[-1])"
      ],
      "execution_count": 13,
      "outputs": []
    }
  ]
}