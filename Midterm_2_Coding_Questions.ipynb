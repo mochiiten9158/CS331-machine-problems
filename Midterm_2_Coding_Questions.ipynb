{
  "nbformat": 4,
  "nbformat_minor": 0,
  "metadata": {
    "colab": {
      "name": "Midterm 2 Coding Questions",
      "provenance": [],
      "collapsed_sections": [
        "paokLRsC1lhM",
        "k4ToCAqD9ztf",
        "o78xqJYO-hMJ",
        "xh54drYYEVmV"
      ],
      "authorship_tag": "ABX9TyPJz/MbQKhIjZr7Oe/w0N9Q",
      "include_colab_link": true
    },
    "kernelspec": {
      "name": "python3",
      "display_name": "Python 3"
    },
    "language_info": {
      "name": "python"
    }
  },
  "cells": [
    {
      "cell_type": "markdown",
      "metadata": {
        "id": "view-in-github",
        "colab_type": "text"
      },
      "source": [
        "<a href=\"https://colab.research.google.com/github/mochiiten9158/CS331-machine-problems/blob/main/Midterm_2_Coding_Questions.ipynb\" target=\"_parent\"><img src=\"https://colab.research.google.com/assets/colab-badge.svg\" alt=\"Open In Colab\"/></a>"
      ]
    },
    {
      "cell_type": "markdown",
      "metadata": {
        "id": "paokLRsC1lhM"
      },
      "source": [
        "#**Problem 1**"
      ]
    },
    {
      "cell_type": "code",
      "metadata": {
        "id": "29PjETAn1oMa"
      },
      "source": [
        "def char_stats(sentence):\n",
        "  words = sentence.split()\n",
        "  letters = []\n",
        "  d ={}\n",
        "  for x in words:\n",
        "    for char in x:\n",
        "      if char not in letters:\n",
        "        letters.append(char)\n",
        "  for char in letters:\n",
        "    d[char] = {}\n",
        "    for w in words:\n",
        "      count = w.count(char)\n",
        "      if count in d[char]:\n",
        "        d[char][count].append(w)\n",
        "      elif count not in d[char] and count != 0:\n",
        "        d[char][count] = [w]\n",
        "  return d"
      ],
      "execution_count": 1,
      "outputs": []
    },
    {
      "cell_type": "code",
      "metadata": {
        "colab": {
          "base_uri": "https://localhost:8080/"
        },
        "id": "c177WPKZ8tly",
        "outputId": "b6d271fa-fec1-4bd1-c3dc-9395c0387550"
      },
      "source": [
        "char_stats(\"a llama is a mammal\")"
      ],
      "execution_count": 2,
      "outputs": [
        {
          "output_type": "execute_result",
          "data": {
            "text/plain": [
              "{'a': {1: ['a', 'a'], 2: ['llama', 'mammal']},\n",
              " 'i': {1: ['is']},\n",
              " 'l': {1: ['mammal'], 2: ['llama']},\n",
              " 'm': {1: ['llama'], 3: ['mammal']},\n",
              " 's': {1: ['is']}}"
            ]
          },
          "metadata": {},
          "execution_count": 2
        }
      ]
    },
    {
      "cell_type": "markdown",
      "metadata": {
        "id": "k4ToCAqD9ztf"
      },
      "source": [
        "#**Problem 2**"
      ]
    },
    {
      "cell_type": "code",
      "metadata": {
        "id": "WH9IiXcO9yj4"
      },
      "source": [
        "def dup_all(self):\n",
        "  current = self.head.next\n",
        "  while current is not self.head:\n",
        "    n = LinkedList.Node(current.val, prior=current, next=current.next)\n",
        "    current.next.prior = n\n",
        "    current.next = n\n",
        "    current = current.next.next"
      ],
      "execution_count": 3,
      "outputs": []
    },
    {
      "cell_type": "markdown",
      "metadata": {
        "id": "o78xqJYO-hMJ"
      },
      "source": [
        "#**Problem 3**"
      ]
    },
    {
      "cell_type": "code",
      "metadata": {
        "id": "V-Tcss5nIfHD"
      },
      "source": [
        "class Hashtable:\n",
        "    class Node:\n",
        "        def __init__(self, key, val, next=None):\n",
        "            self.key = key\n",
        "            self.val = val\n",
        "            self.next = next\n",
        "            \n",
        "    def __init__(self, n_buckets=1000):\n",
        "        self.buckets = [None] * n_buckets\n",
        "        \n",
        "    def __setitem__(self, key, val):\n",
        "        bucket_idx = hash(key) % len(self.buckets)\n",
        "        b = self.buckets[bucket_idx]\n",
        "        while b:\n",
        "            if b.key == key:\n",
        "                b.val = val\n",
        "                return\n",
        "            b = b.next\n",
        "        else:\n",
        "            self.buckets[bucket_idx] = Hashtable.Node(key, val, next=self.buckets[bucket_idx])\n",
        "\n",
        "    def ht_stats(self):\n",
        "        empty, collision, max_num = 0, 0, 0\n",
        "        for i in range(len(self.buckets)):\n",
        "            n = self.buckets[i]\n",
        "            nl = 0\n",
        "            if n == None:\n",
        "                empty += 1\n",
        "                nl = 0\n",
        "            elif n is not None:\n",
        "                nl = 1\n",
        "                while n.next:\n",
        "                    nl += 1\n",
        "                    n = n.next\n",
        "                if nl > 1:\n",
        "                    collision += 1\n",
        "                    if nl > max_num:\n",
        "                        max_num = nl\n",
        "        return (empty, collision, max_num)"
      ],
      "execution_count": 4,
      "outputs": []
    },
    {
      "cell_type": "code",
      "metadata": {
        "colab": {
          "base_uri": "https://localhost:8080/"
        },
        "id": "iyP7ASfeIl28",
        "outputId": "bf103678-1b72-4218-fac3-0bf47e4df037"
      },
      "source": [
        "ht = Hashtable(10)\n",
        "\n",
        "for x in range(5):\n",
        "\n",
        "    ht[x*2] = x\n",
        "\n",
        "ht[10] = 1\n",
        "\n",
        "ht[20] = 1\n",
        "\n",
        "ht[12] = 2\n",
        "\n",
        "ht[22] = 2\n",
        "\n",
        "ht[32] = 2\n",
        "\n",
        "for x in range(10):\n",
        "\n",
        "    ht[x*10+3] = 3\n",
        "\n",
        "    \n",
        "\n",
        "ht.ht_stats()"
      ],
      "execution_count": 5,
      "outputs": [
        {
          "output_type": "execute_result",
          "data": {
            "text/plain": [
              "(4, 3, 10)"
            ]
          },
          "metadata": {},
          "execution_count": 5
        }
      ]
    },
    {
      "cell_type": "markdown",
      "metadata": {
        "id": "xh54drYYEVmV"
      },
      "source": [
        "#**Problem 4**"
      ]
    },
    {
      "cell_type": "code",
      "metadata": {
        "id": "OxS2fPvREVXf"
      },
      "source": [
        "def is_minheap(lst):\n",
        "    for i in range((len(lst) - 2) // 2 + 1):\n",
        "        if lst[i] > lst[2*i + 1] or (2*i + 2 != len(lst) and lst[i] > lst[2*i + 2]):\n",
        "            return False\n",
        "    return True"
      ],
      "execution_count": 6,
      "outputs": []
    },
    {
      "cell_type": "code",
      "metadata": {
        "colab": {
          "base_uri": "https://localhost:8080/"
        },
        "id": "cCn2WB29E1sy",
        "outputId": "337bd33a-fee8-4d72-8064-44dc022ac069"
      },
      "source": [
        "l = [7, 10, 8]\n",
        "is_minheap(l)"
      ],
      "execution_count": 9,
      "outputs": [
        {
          "output_type": "execute_result",
          "data": {
            "text/plain": [
              "True"
            ]
          },
          "metadata": {},
          "execution_count": 9
        }
      ]
    }
  ]
}